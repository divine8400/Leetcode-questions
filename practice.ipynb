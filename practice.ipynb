{
 "cells": [
  {
   "cell_type": "code",
   "execution_count": null,
   "metadata": {},
   "outputs": [],
   "source": [
    "                    def strlnth(str1):\n",
    "    count = 0\n",
    "    for char in str1:\n",
    "        count+=1\n",
    "    return count\n",
    "print(strlnth('74763847589'))"
   ]
  },
  {
   "cell_type": "code",
   "execution_count": null,
   "metadata": {},
   "outputs": [],
   "source": [
    "fname = input(\"Enter the file name: \")\n",
    "fh = open(fname)\n",
    "count = 0\n",
    "total  = 0\n",
    "for line in fh:\n",
    "    if line.startswith(\"X-DSPAM-Confidence:\"):\n",
    "        count = count + 1\n",
    "        t = line.find(\"0\")\n",
    "        num = float(line[t:])\n",
    "        total = num + total\n",
    "avg = total/count\n",
    "print(avg)"
   ]
  },
  {
   "cell_type": "code",
   "execution_count": null,
   "metadata": {},
   "outputs": [],
   "source": [
    "fname = input(\"Enter the file name:\")\n",
    "fh = open(fname)\n",
    "lst = []\n",
    "for word in gh:\n",
    "    if word not in lst:\n",
    "        lst.append(word)\n",
    "print(lst)\n",
    "\n"
   ]
  },
  {
   "cell_type": "code",
   "execution_count": null,
   "metadata": {},
   "outputs": [],
   "source": [
    "fname = input(\"Enter the file name:\")\n",
    "fh = open(fname)\n",
    "gh = fh.read()\n",
    "lst = []\n",
    "sh = gh.split()\n",
    "for words in sh:\n",
    "    if words not in lst:\n",
    "        lst.append(words)\n",
    "lst.sort()\n",
    "print(lst)\n",
    "        \n",
    "    \n",
    "\n"
   ]
  },
  {
   "cell_type": "code",
   "execution_count": null,
   "metadata": {},
   "outputs": [],
   "source": [
    "fname =  input(\"Enter the name of the file :\")\n",
    "fh = open(fname)\n",
    "count = 0\n",
    "counts = dict()\n",
    "for lines in fh:\n",
    "    lines = lines.rstrip()\n",
    "    if lines.startswith('From '):\n",
    "        count = count + 1\n",
    "        t = lines.split()\n",
    "        print(t[1])\n",
    "        for word in \n",
    "print(count)"
   ]
  },
  {
   "cell_type": "code",
   "execution_count": null,
   "metadata": {},
   "outputs": [],
   "source": [
    "fname = input(\"Enter the file name: \")\n",
    "fh = open(fname)\n",
    "counts = dict()\n",
    "for lines in fh:\n",
    "    lines = lines.rstrip()\n",
    "    if lines.startswith('From '):\n",
    "        words = lines.split()\n",
    "        for word[1] in words:\n",
    "            counts[word[1]] = counts.get(word[1], 0) + 1\n",
    "            print(counts, word[1])\n",
    "    \n",
    "    "
   ]
  },
  {
   "cell_type": "code",
   "execution_count": null,
   "metadata": {},
   "outputs": [],
   "source": [
    "fname = input(\"Enter the file name: \")\n",
    "fh = open(fname)\n",
    "counts = dict()\n",
    "for lines in fh:\n",
    "    if lines.startswith('From '):\n",
    "        words = lines.split()\n",
    "        for word in words:\n",
    "            counts[word] = counts.get(word, 0) + 1\n",
    "print(counts)"
   ]
  },
  {
   "cell_type": "code",
   "execution_count": null,
   "metadata": {},
   "outputs": [],
   "source": [
    "fname = open('jasmin.txt')\n",
    "counts = dict()\n",
    "dit = []\n",
    "for line in fname:\n",
    "    if line.startswith('From '):\n",
    "        words = line.split()\n",
    "        dit.append(words[1])\n",
    "for name in dit:\n",
    "    counts[name] = counts.get(name, 0) + 1\n",
    "print(counts)\n",
    "val = counts.values()\n",
    "mv = max(val)\n",
    "print(mv)\n",
    "print(\n",
    "    "
   ]
  },
  {
   "cell_type": "code",
   "execution_count": null,
   "metadata": {},
   "outputs": [],
   "source": [
    "fh = \"From stephen.marquard@uct.ac.za Sat Jan  5 09:14:16 2008\"\n",
    "print(fh[1])"
   ]
  },
  {
   "cell_type": "code",
   "execution_count": null,
   "metadata": {},
   "outputs": [],
   "source": [
    "c = {'a': 10, 'b': 1, 'c': 22}\n",
    "tmp = []\n",
    "for k, v in c.items():\n",
    "    tmp.append((v,k))\n",
    "print(tmp)\n",
    "tmp = sorted(tmp, reverse=True)\n",
    "print(tmp)"
   ]
  },
  {
   "cell_type": "code",
   "execution_count": null,
   "metadata": {},
   "outputs": [],
   "source": [
    "fhand = open('jasmin.txt')\n",
    "counts = {}\n",
    "for line in fhand:\n",
    "    words = line.split()\n",
    "    for word in words:\n",
    "        counts[word] = counts.get(word, 0) + 1\n",
    "lst = []\n",
    "for key, val in counts.items():\n",
    "    newtp = (val, key)\n",
    "    lst.append(newtp)\n",
    "lst = sorted(lst, reverse=True)\n",
    "\n",
    "for val, key in lst[:10]:\n",
    "    print(key, val)\n"
   ]
  },
  {
   "cell_type": "code",
   "execution_count": null,
   "metadata": {},
   "outputs": [],
   "source": [
    "fhand  = open('jasmin.txt')\n",
    "counts = {}\n",
    "lst = []\n",
    "for line in fhand:\n",
    "    if line.startswith('From '):\n",
    "        words = line.split()\n",
    "        lst.append(words[5])\n",
    "hrlst = []\n",
    "for hours in lst:\n",
    "    hour = hours.split(':')\n",
    "    hrlst.append(hour[0])\n",
    "for rhr in hrlst:\n",
    "    counts[rhr] = counts.get(rhr, 0) + 1\n",
    "nlst = []\n",
    "for k, v in counts.items():\n",
    "    count = (k, v)\n",
    "    nlst.append(count)\n",
    "mlst = sorted(nlst)\n",
    "for k, v in mlst:\n",
    "    print(k, v)\n",
    "    \n",
    "    "
   ]
  },
  {
   "cell_type": "code",
   "execution_count": null,
   "metadata": {},
   "outputs": [],
   "source": [
    "Age = int(input(\"Enter the age of the student:  \"))\n",
    "if Age>=22:\n",
    "    print(\"You are eligible for higher studies in abroad.\")\n",
    "else:\n",
    "    print(\"You are NOT eligible for higher studies in abroad.\")\n"
   ]
  },
  {
   "cell_type": "code",
   "execution_count": null,
   "metadata": {},
   "outputs": [],
   "source": [
    "def factorial(x):\n",
    "    if x<2:\n",
    "        return 1\n",
    "    else:\n",
    "        return x*factorial(x-1)\n",
    "print(factorial(3))"
   ]
  },
  {
   "cell_type": "code",
   "execution_count": null,
   "metadata": {},
   "outputs": [],
   "source": [
    "def factorial(x):\n",
    "    num = 1\n",
    "    while x>=1:\n",
    "        num = num*x\n",
    "        x=x-1\n",
    "    return num\n",
    "print(factorial(5))"
   ]
  },
  {
   "cell_type": "code",
   "execution_count": null,
   "metadata": {},
   "outputs": [],
   "source": [
    "num = int(input(\"Enter a number: \"))\n",
    "fact = 1\n",
    "for x in range(1, num+1):\n",
    "    fact = fact * x\n",
    "print(fact)"
   ]
  },
  {
   "cell_type": "code",
   "execution_count": null,
   "metadata": {},
   "outputs": [],
   "source": [
    "import math\n",
    "math.factorial(5)"
   ]
  },
  {
   "cell_type": "code",
   "execution_count": null,
   "metadata": {},
   "outputs": [],
   "source": [
    "marks = []\n",
    "F_mark = int(input(\"Enter the first mark: \"))\n",
    "S_mark = int(input(\"Enter the second mark: \"))\n",
    "T_mark = int(input(\"Enter the third mark: \"))\n",
    "marks.append(F_mark)\n",
    "marks.append(S_mark)\n",
    "marks.append(T_mark)\n",
    "m_marks = max(marks)\n",
    "if m_marks < 70:\n",
    "    print(\"largest marks\", m_marks)\n",
    "    print(\"Fail\")\n",
    "elif m_marks>90:\n",
    "    print(\"largest marks\", m_marks)\n",
    "    print(\"S Grade\")\n",
    "elif m_marks>80 and m_marks<91:\n",
    "    print(\"largest marks\", m_marks)\n",
    "    print(\"A Grade\")\n",
    "elif m_marks>= 70 and m_marks<81:\n",
    "    print(\"largest marks\", m_marks)\n",
    "    print(\"B Grade\")"
   ]
  },
  {
   "cell_type": "code",
   "execution_count": null,
   "metadata": {},
   "outputs": [],
   "source": [
    "def Hexagon(x):\n",
    "    Area = (3*1.73*x*x)/2\n",
    "    return Area\n",
    "print(Hexagon(4))"
   ]
  },
  {
   "cell_type": "code",
   "execution_count": null,
   "metadata": {},
   "outputs": [],
   "source": [
    "x= int(input(\"Enter the value of x: \"))\n",
    "Area = (3*1.73*x*x)/2\n",
    "print(\"Area of hexagon is\", Area,\".\")"
   ]
  },
  {
   "cell_type": "code",
   "execution_count": null,
   "metadata": {},
   "outputs": [],
   "source": [
    "lst = [1, 2, 3, 4, 5, 6, 7]\n",
    "for i in lst:\n",
    "    if i>2:\n",
    "        print(i)?"
   ]
  },
  {
   "cell_type": "code",
   "execution_count": null,
   "metadata": {},
   "outputs": [],
   "source": []
  },
  {
   "cell_type": "code",
   "execution_count": null,
   "metadata": {},
   "outputs": [],
   "source": []
  },
  {
   "cell_type": "code",
   "execution_count": null,
   "metadata": {},
   "outputs": [],
   "source": [
    "def charfre(str1):\n",
    "    dict = {}\n",
    "    for n in str1:\n",
    "        keys = dict.keys()\n",
    "        if n in keys:\n",
    "            dict[n] += 1\n",
    "        else:\n",
    "            dict[n] = 1\n",
    "    return dict\n",
    "print(charfre('google.com'))"
   ]
  },
  {
   "cell_type": "code",
   "execution_count": null,
   "metadata": {},
   "outputs": [],
   "source": [
    "def word(chars):\n",
    "    if len(chars) < 2:\n",
    "    return 'Empty string'\n",
    "    return chars[0:2]+chars[-2:]\n",
    "print(word('w'))"
   ]
  },
  {
   "cell_type": "code",
   "execution_count": null,
   "metadata": {},
   "outputs": [],
   "source": [
    "def word(str1):\n",
    "    char = str1[0]\n",
    "    str1 = str1.replace(char, '$')\n",
    "    str1 = char + str1[1:]\n",
    "    return str1\n",
    "print(word('mxdbjkszjmmm'))\n"
   ]
  },
  {
   "cell_type": "code",
   "execution_count": null,
   "metadata": {},
   "outputs": [],
   "source": [
    "def words(a, b):\n",
    "    char = b[0:2]+(a[2]) + ' ' + a[0:2]+(b[2])\n",
    "    return char\n",
    "print(words('abc', 'xyz'))"
   ]
  },
  {
   "cell_type": "code",
   "execution_count": null,
   "metadata": {},
   "outputs": [],
   "source": [
    "def word(str1):\n",
    "    if len(str1) > 2:\n",
    "        if str1[-3:] == 'ing':\n",
    "            str1 = str1+'ly'\n",
    "        else:\n",
    "            str1 = str1+'ing'\n",
    "    return str1\n",
    "print(word('sdsd'))\n",
    "print(word('df'))\n",
    "print(word('ssing'))"
   ]
  },
  {
   "cell_type": "code",
   "execution_count": null,
   "metadata": {},
   "outputs": [],
   "source": [
    "def str1(str2):\n",
    "    gh = 'str2'+'sdj'\n",
    "print(str1('yug'))"
   ]
  },
  {
   "cell_type": "code",
   "execution_count": null,
   "metadata": {},
   "outputs": [],
   "source": [
    "def strfre(str1):\n",
    "    dict = {}\n",
    "    for n in str1:\n",
    "        keys = dict.keys()\n",
    "        if n in keys:\n",
    "            dict[n] +=1\n",
    "        else:\n",
    "            dict[n] = 1\n",
    "    return dict\n",
    "print(strfre('godsknjkikkhf'))"
   ]
  },
  {
   "cell_type": "code",
   "execution_count": null,
   "metadata": {},
   "outputs": [],
   "source": [
    "def stroc(str1):\n",
    "    dict = {}\n",
    "    for n in str1:\n",
    "        keys = dict.keys()\n",
    "        if n in keys:\n",
    "            dict[n] +=1\n",
    "        else:\n",
    "            dict[n] = 1\n",
    "    return dict\n",
    "print(stroc('zsdhgfjdd'))"
   ]
  },
  {
   "cell_type": "code",
   "execution_count": null,
   "metadata": {},
   "outputs": [],
   "source": [
    "def stat(st):\n",
    "    sp = st.find('poor')\n",
    "    sn = st.find('not')\n",
    "    if sp > sn and sn>0 and sp>0:\n",
    "        st = st.replace(st[sn:(sp+4)], 'good')\n",
    "        return st\n",
    "    else:\n",
    "        return st\n",
    "print(stat('The lyrics is not that poor'))\n",
    "print(stat('The lyrics is poor'))"
   ]
  },
  {
   "cell_type": "code",
   "execution_count": null,
   "metadata": {},
   "outputs": [],
   "source": [
    "st = input('Enter the words separated by comma: ')\n",
    "list = st.split(',')\n",
    "n = 0\n",
    "lst = list\n",
    "for i[n] in list:\n",
    "    if len(i[n]) > len(i[n+1]):\n",
    "        i[n].append(lst)\n",
    "        n = n + 1\n",
    "    \n",
    "print('List:', list)"
   ]
  },
  {
   "cell_type": "code",
   "execution_count": null,
   "metadata": {},
   "outputs": [],
   "source": [
    "def remove_char(str, n):\n",
    "    first_part = str[:n]\n",
    "    last_part = str[n+1:]\n",
    "    return first_part + last_part\n",
    "print(remove_char('pyhton', 4))"
   ]
  },
  {
   "cell_type": "code",
   "execution_count": null,
   "metadata": {},
   "outputs": [],
   "source": [
    "import math\n",
    "def inp(num):\n",
    "    res = math.sqrt(num)\n",
    "    return res\n",
    "print(inp(5))"
   ]
  },
  {
   "cell_type": "markdown",
   "metadata": {},
   "source": [
    "## import math\n",
    "lst = []\n",
    "for i in range(5):\n",
    "    data = input('Enter a num:')\n",
    "    lst.append(data)\n",
    "for i in lst:\n",
    "    print('sqroot of', i, 'is', math.sqrt(int(i)))"
   ]
  },
  {
   "cell_type": "markdown",
   "metadata": {},
   "source": [
    "words = input(\"Enter a list of words separated by comma: \")\n",
    "word_sp = words.split(',')\n",
    "  \n",
    "for chars in word_sp:\n",
    "    lst = len(chars)\n",
    "    num.append(lst)\n",
    "print(num)\n",
    "print(max(num), chars)\n",
    "    \n",
    "    \n",
    "    "
   ]
  },
  {
   "cell_type": "code",
   "execution_count": null,
   "metadata": {},
   "outputs": [],
   "source": [
    "words = input(\"Enter a word: \")\n",
    "n = int(input(\"enter index: \"))\n",
    "final = (words[0:n]) + (words[(n+1):])\n",
    "print(final)"
   ]
  },
  {
   "cell_type": "code",
   "execution_count": null,
   "metadata": {},
   "outputs": [],
   "source": [
    "word = input(\"Enter a word: \")\n",
    "print(word[-1] + word[1:-1] + word[0])"
   ]
  },
  {
   "cell_type": "code",
   "execution_count": null,
   "metadata": {},
   "outputs": [],
   "source": [
    "word = input(\"Enter a word: \")\n",
    "lst = []\n",
    "for n in range(len(word)):\n",
    "    if n%2 != 1:\n",
    "        print(n, word[n+1])\n",
    "        lst.append(word[n+1])\n",
    "print(lst)\n",
    "res = \"\"\n",
    "for i in lst:\n",
    "    res = res + str[i]\n",
    "return res\n",
    "print(res)"
   ]
  },
  {
   "cell_type": "code",
   "execution_count": null,
   "metadata": {},
   "outputs": [],
   "source": []
  },
  {
   "cell_type": "code",
   "execution_count": null,
   "metadata": {},
   "outputs": [],
   "source": [
    "marks = int(input(\"Enter your marks: \"))\n",
    "if marks <25 :\n",
    "    print(\"Your grade is F\")\n",
    "elif marks >=25 and marks <=45:\n",
    "    print(\"Your grade is E\")\n",
    "elif marks >= 45 and marks <= 50:\n",
    "    print(\"Your grade is D\")\n",
    "elif marks >= 50 and marks <= 60:\n",
    "    print(\"Your grade is C\")\n",
    "elif marks >= 60 and marks <= 80:\n",
    "    print(\"Your grade is B\")\n",
    "else:\n",
    "    print(\"Your grade is A\")"
   ]
  },
  {
   "cell_type": "code",
   "execution_count": null,
   "metadata": {},
   "outputs": [],
   "source": [
    "length = float(input(\"Enter length: \"))\n",
    "breadth = float(input(\"Enter breadth: \"))\n",
    "if length == breadth:\n",
    "    print(\"length and breadth are same\")\n",
    "    area = length * breadth\n",
    "print(area)\n",
    "else:\n",
    "    print(\"length and breadth are not same\")"
   ]
  },
  {
   "cell_type": "code",
   "execution_count": null,
   "metadata": {},
   "outputs": [],
   "source": [
    "hrs = float(input(\"Enter hours: \"))\n",
    "rate  = float(input(\"Enter rate:\"))\n",
    "if hrs>40:\n",
    "    pay = 40*rate + (hrs-40)*1.5*rate\n",
    "else:\n",
    "    pay = rate*hrs\n",
    "print(pay)"
   ]
  },
  {
   "cell_type": "code",
   "execution_count": null,
   "metadata": {},
   "outputs": [],
   "source": [
    "def computepay(h, r):\n",
    "    if h>40:\n",
    "        p = 40*r + (h-40)*1.5*r\n",
    "    else:\n",
    "        p = h*r\n",
    "    return(p)\n",
    "hrs = float(input(\"Enter hrs: \"))\n",
    "rate = float(input(\"Enter rate: \"))\n",
    "p = computepay(hrs, rate)\n",
    "print(\"pay\", p)"
   ]
  },
  {
   "cell_type": "code",
   "execution_count": null,
   "metadata": {},
   "outputs": [],
   "source": [
    "str_list = input('Enter the words separated by comma: ')\n",
    "list = str_list.split(',')\n",
    "print(list)\n",
    "for words in list:\n",
    "    count = 0\n",
    "    if words[0] == words[-1]:\n",
    "        count = count + 1\n",
    "print(count)\n"
   ]
  },
  {
   "cell_type": "code",
   "execution_count": null,
   "metadata": {},
   "outputs": [],
   "source": [
    "str_list = ['abc','xyz','aba','1221','rar','mam']\n",
    "count = 0\n",
    "for words in str_list:\n",
    "    if words[0] == words[-1]:\n",
    "        count = count +1\n",
    "print(count)"
   ]
  },
  {
   "cell_type": "code",
   "execution_count": null,
   "metadata": {},
   "outputs": [],
   "source": [
    "count = 0\n",
    "for words in str_list:\n",
    "    if words[0] == words[-1]:\n",
    "        count = count + 1\n",
    "print(count)\n",
    "        "
   ]
  },
  {
   "cell_type": "code",
   "execution_count": null,
   "metadata": {},
   "outputs": [],
   "source": [
    "L1 = ['abc','xyz','aba','rar','mam']\n",
    "L2 = ['abc','xyz','aba','rar','mam']\n",
    "L3 = L1 + L2\n",
    "print(L3)"
   ]
  },
  {
   "cell_type": "code",
   "execution_count": null,
   "metadata": {},
   "outputs": [],
   "source": [
    "def demostr(str1, str2):\n",
    "    str1[1]\n",
    "print(demostr('Hello', 'world'))"
   ]
  },
  {
   "cell_type": "code",
   "execution_count": null,
   "metadata": {},
   "outputs": [],
   "source": [
    "str1 = \"Hello\"\n",
    "str2 = \"World\"\n",
    "abc = str1[1]\n",
    "bc = str1[-1:-4]\n",
    "print(abc+bc)"
   ]
  },
  {
   "cell_type": "raw",
   "metadata": {},
   "source": []
  },
  {
   "cell_type": "code",
   "execution_count": null,
   "metadata": {},
   "outputs": [],
   "source": [
    "L1 = ['abc','xyz','aba','rar','mam']\n",
    "L2 = ['abc','xyz','aba','rar','mam']\n",
    "for words in L1:\n",
    "    L1.append(L2)\n",
    "print(L1)"
   ]
  },
  {
   "cell_type": "code",
   "execution_count": null,
   "metadata": {},
   "outputs": [],
   "source": [
    "str1 = \"Hello\"\n",
    "ab = str1[1]\n",
    "ac = str1[-1]\n",
    "cb = str1[2:4]\n",
    "print(ab+ac+cb)"
   ]
  },
  {
   "cell_type": "code",
   "execution_count": null,
   "metadata": {},
   "outputs": [],
   "source": [
    "def remove_char(str1, str2):\n",
    "    first_part = str1[1]\n",
    "    mid_part = str1[-1]\n",
    "    last_part = str1[2:4]\n",
    "    \n",
    "    return first_part + mid_part + last_part\n",
    "print(remove_char('Hello', 'world'))"
   ]
  },
  {
   "cell_type": "code",
   "execution_count": null,
   "metadata": {},
   "outputs": [],
   "source": [
    "str1 = \"Python\"\n",
    "input_character = input(\"Enter the character: \")\n",
    "ind = str1.find(input_character)\n",
    "print(ind)"
   ]
  },
  {
   "cell_type": "code",
   "execution_count": null,
   "metadata": {},
   "outputs": [],
   "source": [
    "str1 = \"Python\"\n",
    "ind = str1.find('h')\n",
    "print(ind)"
   ]
  },
  {
   "cell_type": "code",
   "execution_count": null,
   "metadata": {},
   "outputs": [],
   "source": [
    "Ins = \"Hello World\"\n",
    "out_string = Ins[0:2] + Ins[4] + Ins[2:4] + \" \" + Ins[::-1].lower()\n",
    "print(out_string[0:11])"
   ]
  },
  {
   "cell_type": "code",
   "execution_count": null,
   "metadata": {},
   "outputs": [],
   "source": [
    "inp = [1, 2, 3, 4, 5, 6]\n",
    "for num "
   ]
  },
  {
   "cell_type": "code",
   "execution_count": null,
   "metadata": {},
   "outputs": [],
   "source": [
    "n = 5\n",
    "\n",
    "for i in range(n):\n",
    "    a = []\n",
    "    for j in range(6):\n",
    "        a.append((i+j)%6 + 1)\n",
    "    print(a)\n",
    " "
   ]
  },
  {
   "cell_type": "code",
   "execution_count": null,
   "metadata": {},
   "outputs": [],
   "source": [
    "def inp(num):\n",
    "    if num%2 == 0:\n",
    "        print(\"even\")\n",
    "        return True\n",
    "    "
   ]
  },
  {
   "cell_type": "code",
   "execution_count": null,
   "metadata": {},
   "outputs": [],
   "source": [
    "inp(40)"
   ]
  },
  {
   "cell_type": "code",
   "execution_count": null,
   "metadata": {},
   "outputs": [],
   "source": [
    "num=int(input(\"Enter a number for check odd or even: \"))\n",
    "def find_Evenodd(num):\n",
    "    \n",
    "    if(num%2==0):\n",
    "        print(num,\" Is an even\")\n",
    "    else:\n",
    "        print(num,\" is an odd\")\n",
    "find_Evenodd(num)"
   ]
  },
  {
   "cell_type": "code",
   "execution_count": null,
   "metadata": {},
   "outputs": [],
   "source": [
    "def oddeven(t):\n",
    "    if (t%2 == 0):\n",
    "        return True\n",
    "    else:\n",
    "        return False"
   ]
  },
  {
   "cell_type": "code",
   "execution_count": null,
   "metadata": {},
   "outputs": [],
   "source": [
    "oddeven(50)"
   ]
  },
  {
   "cell_type": "code",
   "execution_count": null,
   "metadata": {},
   "outputs": [],
   "source": [
    "def cmdata(list1, list2):\n",
    "    for x in list1:\n",
    "        for y in list2:\n",
    "            if x== y:\n",
    "                return True\n",
    "            else:\n",
    "                return False"
   ]
  },
  {
   "cell_type": "code",
   "execution_count": null,
   "metadata": {},
   "outputs": [],
   "source": [
    "print(cmdata([1, 2, 3, 54, 5, 6, 7, 6], [1, 34, 34, 36, 4, 5, 6, 7]))"
   ]
  },
  {
   "cell_type": "code",
   "execution_count": null,
   "metadata": {},
   "outputs": [],
   "source": [
    "def cdata(list1, list2):\n",
    "    count = 0\n",
    "    for x in list1:\n",
    "        if x in list2:\n",
    "            count = count +1\n",
    "    print(count)"
   ]
  },
  {
   "cell_type": "code",
   "execution_count": null,
   "metadata": {},
   "outputs": [],
   "source": [
    "print(cdata([1, 2, 3, 54, 5, 6, 7, 6], [1, 23, 2, 36, 42, 53, 61, 34]))"
   ]
  },
  {
   "cell_type": "code",
   "execution_count": null,
   "metadata": {},
   "outputs": [],
   "source": [
    "str1 = \"Hello World\"\n",
    "str2 = \"Python Programming Fundamentals\"\n",
    "print(str1[0].lower() + str1[1:5].upper() +\" \"+ str1[6].lower() + str1[7:].upper())\n",
    "print(str2[0].lower() + str2[1:6].upper() + \" \" + str2[7].lower() + str2[8:18].upper() + \" \" + str2[19].lower() + str2[20:].upper())"
   ]
  },
  {
   "cell_type": "code",
   "execution_count": null,
   "metadata": {},
   "outputs": [],
   "source": [
    "str1 = input(\"Enter a string: \")\n",
    "str2 = input(\"Enter a letter: \")\n",
    "n = 0\n",
    "for i in str1:\n",
    "    if str2 in str1:\n",
    "        n = n + 1\n",
    "        return str1#wronggggggggggggggggggggggggggggg\n",
    "    #fuckkkkkkkkkkkkkkkkkkkkkkkkk\n",
    "print(n)"
   ]
  },
  {
   "cell_type": "code",
   "execution_count": null,
   "metadata": {},
   "outputs": [],
   "source": [
    "str1 = input(\"Enter a string: \")\n",
    "str2 = input(\"Enter a letter: \")\n",
    "n = 0\n",
    "for i in str1:\n",
    "    if i == str2:\n",
    "        n = n + 1\n",
    "print(n)"
   ]
  },
  {
   "cell_type": "code",
   "execution_count": null,
   "metadata": {},
   "outputs": [],
   "source": [
    "num = int(input(\"Enter a num: \"))\n",
    "print(\"5\")\n",
    "while num < 45:\n",
    "    num  = num+5\n",
    "    print(num)"
   ]
  },
  {
   "cell_type": "code",
   "execution_count": null,
   "metadata": {},
   "outputs": [],
   "source": [
    "str1 = \"Python\"\n",
    "for i in str1[0:3]:\n",
    "    print(i)"
   ]
  },
  {
   "cell_type": "code",
   "execution_count": null,
   "metadata": {},
   "outputs": [],
   "source": [
    "lst = [6,7,8,9,10]\n",
    "print(lst*3)"
   ]
  },
  {
   "cell_type": "code",
   "execution_count": null,
   "metadata": {},
   "outputs": [],
   "source": [
    "i = int(input(\"Enter a number: \"))\n",
    "o = str(oct(i))\n",
    "h = str(hex(i))\n",
    "print(o)\n",
    "print(h)"
   ]
  },
  {
   "cell_type": "code",
   "execution_count": null,
   "metadata": {},
   "outputs": [],
   "source": [
    "def f1():\n",
    "\n",
    "            a=15\n",
    "\n",
    "            b=10\n",
    "\n",
    "            print(\"inside function\")\n",
    "\n",
    "            return a+b"
   ]
  },
  {
   "cell_type": "code",
   "execution_count": null,
   "metadata": {},
   "outputs": [],
   "source": [
    "Number_Plate = input(\"\")\n",
    "engine = Number_plate.split()\n",
    "lst = []\n",
    "for i in engine:\n",
    "    lst.append(i)\n",
    "print(lst)"
   ]
  },
  {
   "cell_type": "code",
   "execution_count": null,
   "metadata": {},
   "outputs": [],
   "source": [
    "def split(numberplate):\n",
    "    return[char for char in numberplate]\n",
    "numberplate = input('')\n",
    "lst = []\n",
    "for j in split(numberplate):\n",
    "    lst.append(j)\n",
    "bst = []\n",
    "m = 0\n",
    "for k in lst:\n",
    "    if k in ['1', '2', '3', '4', '5', '6', '7', '8', '9', '0']:\n",
    "        bst.append(k)\n",
    "v= []\n",
    "for m in bst:\n",
    "    v.append(int(m))\n",
    "print(sum(v))"
   ]
  },
  {
   "cell_type": "code",
   "execution_count": null,
   "metadata": {},
   "outputs": [],
   "source": [
    "joyal = input(\"\")\n",
    "sen = joyal.split()"
   ]
  },
  {
   "cell_type": "code",
   "execution_count": null,
   "metadata": {},
   "outputs": [],
   "source": [
    "n = int(input(''))\n",
    "m = int(input(''))\n",
    "print(n*m)"
   ]
  },
  {
   "cell_type": "code",
   "execution_count": null,
   "metadata": {},
   "outputs": [],
   "source": [
    "letter = input()\n",
    "if \"a\" or \"e\" or \"i\" or \"o\" or \"u\" in letter:\n",
    "    print(\"yes\")\n",
    "else:\n",
    "    print(\"no\")"
   ]
  },
  {
   "cell_type": "code",
   "execution_count": null,
   "metadata": {},
   "outputs": [],
   "source": [
    "A = \"fhoy\"\n",
    "for char in  A:\n",
    "    if char in \"aeiou\":\n",
    "        print(\"yes\")\n",
    "        break\n",
    "    else:\n",
    "        print(\"no\")\n",
    "        continue"
   ]
  },
  {
   "cell_type": "code",
   "execution_count": null,
   "metadata": {},
   "outputs": [],
   "source": [
    "def countvowels(string):\n",
    "    num_vowels=0\n",
    "    for char in string:\n",
    "        if char in \"aeiouAEIOU\":\n",
    "           num_vowels = num_vowels+1\n",
    "    return num_vowels\n",
    "countvowels(\"aeiou\")"
   ]
  },
  {
   "cell_type": "code",
   "execution_count": null,
   "metadata": {},
   "outputs": [],
   "source": [
    "def countvowels(string):\n",
    "for char in string:\n",
    "    if char in \"aeiou\":\n",
    "        print(\"yes\")\n",
    "    else:\n",
    "        print(\"no\")"
   ]
  },
  {
   "cell_type": "code",
   "execution_count": null,
   "metadata": {},
   "outputs": [],
   "source": [
    "A = str(input(\"\"))\n",
    "lst = []\n",
    "if \"a\" in  A:\n",
    "    lst.append((ord(\"a\"))) \n",
    "if \"e\" in A:\n",
    "    lst.append((ord(\"e\")))\n",
    "if \"i\" in A:\n",
    "    lst.append((ord(\"i\")))\n",
    "if \"o\" in A:\n",
    "    lst.append((ord(\"o\")))\n",
    "if \"u\" in A:\n",
    "    lst.append((ord(\"u\")))\n",
    "else:\n",
    "    lst.append(0)\n",
    "if (sum(lst) % 8) == 0:\n",
    "    print(\"1\")\n",
    "else:\n",
    "    print(\"0\")"
   ]
  },
  {
   "cell_type": "code",
   "execution_count": null,
   "metadata": {},
   "outputs": [],
   "source": [
    "A = \"string is not there\"\n",
    "B = A.split()\n",
    "C = B.sort()\n",
    "print(C)"
   ]
  },
  {
   "cell_type": "code",
   "execution_count": null,
   "metadata": {},
   "outputs": [],
   "source": [
    "n = \" \"\n",
    "m = \"r\"\n",
    "print(n, m)"
   ]
  },
  {
   "cell_type": "code",
   "execution_count": null,
   "metadata": {},
   "outputs": [],
   "source": [
    "string = input(\"\")\n",
    "m = len(string)\n",
    "\n",
    "c=\" \"*(50-m-1)\n",
    "print(c,string)\n"
   ]
  },
  {
   "cell_type": "code",
   "execution_count": null,
   "metadata": {},
   "outputs": [],
   "source": [
    "l = []\n",
    "a = int(input())\n",
    "for i in range(1,100):\n",
    "    if a%i == 0:\n",
    "        l.append(i)\n",
    "g= []\n",
    "b = int(input())\n",
    "for j in range(1,100):\n",
    "    if b%j == 0:\n",
    "        g.append(j)\n",
    "lst = []\n",
    "for e in l:\n",
    "    if e in g:\n",
    "        lst.append(e)\n",
    "gcd = 1\n",
    "for x in lst:\n",
    "    gcd = gcd*x\n",
    "print(gcd)"
   ]
  },
  {
   "cell_type": "code",
   "execution_count": null,
   "metadata": {},
   "outputs": [],
   "source": [
    "def gcd(a, b):\n",
    "    while b != 0:\n",
    "        (a, b) = (b, a % b)\n",
    "    return a\n",
    "print(gcd(9, 999))"
   ]
  },
  {
   "cell_type": "code",
   "execution_count": null,
   "metadata": {},
   "outputs": [],
   "source": [
    "#formatting\n",
    "name = \"John\"\n",
    "age = 23\n",
    "print(\"%s is %d years old.\" % (name, age))\n",
    "#method 2\n",
    "txt = \"For only {price:.2f} dollars!\"\n",
    "print(txt.format(price = 49))     "
   ]
  },
  {
   "cell_type": "code",
   "execution_count": null,
   "metadata": {},
   "outputs": [],
   "source": [
    "capitals = dict()\n",
    "\n",
    "capitals.update([('svk', 'Bratislava'), ('deu', 'Berlin'), ('dnk', 'Copenhagen')])\n",
    "\n",
    "print(capitals)\n"
   ]
  },
  {
   "cell_type": "code",
   "execution_count": null,
   "metadata": {},
   "outputs": [],
   "source": [
    "L1= [1,2,3,4,5]\n",
    "L2 = []\n",
    "for x in L1:\n",
    "    L2.append(x**4)\n",
    "print(L2)"
   ]
  },
  {
   "cell_type": "code",
   "execution_count": null,
   "metadata": {},
   "outputs": [],
   "source": [
    "a = [2,3,4,5,6,7]\n",
    "print(\"Divisionofarrayelements:\")\n",
    "for i in range(0,6):\n",
    "    div=a[i]/2\n",
    "    print(div)\n",
    "print(\"Somevaluesofinputarrayis:\")\n",
    "print(a[0])\n",
    "print(a[3])\n",
    "print(a[5])\n",
    "\n",
    "\n"
   ]
  },
  {
   "cell_type": "code",
   "execution_count": null,
   "metadata": {},
   "outputs": [],
   "source": [
    "L1=[1,2,3,4.5,\"He\",\"She\",\"it\",5+6j]\n",
    "print(L1[2:6])\n",
    "print(L1[-6:-2])"
   ]
  },
  {
   "cell_type": "code",
   "execution_count": null,
   "metadata": {},
   "outputs": [],
   "source": [
    "l3={1:\"one\",2:\"two\"}\n",
    "list = [(k, v) for k, v in l3.items()]\n",
    "l4 = []\n",
    "for x,y in list:\n",
    "    l4.append(x)\n",
    "for x,y in list:\n",
    "    l4.append(y)\n",
    "print(l4)\n",
    "l1 = (\"one\",\"two\")\n",
    "for a in l1:\n",
    "    l4.append(a)\n",
    "print(l4)\n",
    "l2=[\"Numbers\"]\n",
    "for x in l2:\n",
    "    l4.append(x)\n",
    "print(l4)\n",
    "flist = []\n",
    "for o in l4:\n",
    "    if o not in flist:\n",
    "        flist.append(o)\n",
    "print(flist)"
   ]
  },
  {
   "cell_type": "code",
   "execution_count": null,
   "metadata": {},
   "outputs": [],
   "source": [
    "d1={\"1\":\"abc\",\"2\":\"cdr\",\"3\":\"w\"}\n",
    "d2=d1[\"1\"]\n",
    "print(d2)\n",
    "d3=d1[\"3\"]\n",
    "print(d3)"
   ]
  },
  {
   "cell_type": "code",
   "execution_count": null,
   "metadata": {},
   "outputs": [],
   "source": [
    "x = int(input())\n",
    "otpt = 99*x + 10+ x\n",
    "print(otpt)"
   ]
  },
  {
   "cell_type": "code",
   "execution_count": null,
   "metadata": {},
   "outputs": [],
   "source": [
    "x = [\"C++\", \"java\", \"Python\"]\n",
    "print(\"{},  {}  and  {}  are  the  3  types  of  language  object-oriented languages\".format(*x))"
   ]
  },
  {
   "cell_type": "code",
   "execution_count": null,
   "metadata": {},
   "outputs": [],
   "source": [
    "sample_list = ['cat', 'dog', 'bunny', 'pig']\n",
    "print(\"Your list of animals are: {}, {}, {} and {}\".format(*sample_list))"
   ]
  },
  {
   "cell_type": "code",
   "execution_count": null,
   "metadata": {},
   "outputs": [],
   "source": [
    "import math\n",
    "\n",
    "def SetArea (myradius):\n",
    "    myarea = math.pi * myradius ** 2\n",
    "    return myarea\n",
    "print(SetArea(5))"
   ]
  },
  {
   "cell_type": "code",
   "execution_count": null,
   "metadata": {},
   "outputs": [],
   "source": [
    "Ria is a 5 year old girl. Her mother wants to teach her how to sort words in the same order that they appear in a dictionary. She decides to write a program to \n",
    "sort a given set of strings based on their alphabetical order. Help Ria’s mother to complete the program."
   ]
  },
  {
   "cell_type": "code",
   "execution_count": null,
   "metadata": {},
   "outputs": [],
   "source": [
    "InfinityWar EndGame Avengers"
   ]
  },
  {
   "cell_type": "code",
   "execution_count": null,
   "metadata": {},
   "outputs": [],
   "source": [
    "z = int(input())\n",
    "A = str(input())\n",
    "I = A.split()\n",
    "I.sort()\n",
    "print(' '.join(word for word in I))"
   ]
  },
  {
   "cell_type": "code",
   "execution_count": null,
   "metadata": {},
   "outputs": [],
   "source": [
    "l = [2, 3,4,45, 65,7,8]\n",
    "l.sort(reverse=True)\n",
    "print(l)"
   ]
  },
  {
   "cell_type": "code",
   "execution_count": null,
   "metadata": {},
   "outputs": [],
   "source": [
    "#leetcode\n",
    "nums = []\n",
    "n = int(input())\n",
    "for i in range(n):\n",
    "    ele = int(input())\n",
    "    nums.append(ele)\n",
    "print(nums)\n",
    "target = "
   ]
  },
  {
   "cell_type": "code",
   "execution_count": null,
   "metadata": {},
   "outputs": [],
   "source": [
    "#leetcode\n",
    "nums = [3, 2, 1, 4, 5]\n",
    "len(nums)"
   ]
  },
  {
   "cell_type": "code",
   "execution_count": null,
   "metadata": {},
   "outputs": [],
   "source": [
    "#1678\n",
    "class Solution:\n",
    "    def interpret(self, command: str)-> str:\n",
    "        return command.replace(\"()\", \"o\").replace(\"(al)\", \"al\")"
   ]
  },
  {
   "cell_type": "code",
   "execution_count": null,
   "metadata": {},
   "outputs": [],
   "source": []
  },
  {
   "cell_type": "code",
   "execution_count": null,
   "metadata": {},
   "outputs": [],
   "source": [
    "an = Solution()\n",
    "an.interpret(\"G()(al)\")"
   ]
  },
  {
   "cell_type": "code",
   "execution_count": null,
   "metadata": {},
   "outputs": [],
   "source": [
    "class solution1:\n",
    "    def destiny(self, paths: list[list[str]]) -> str:\n",
    "        outgoing_count = {}\n",
    "        for path in paths:\n",
    "            city_a, city_b = path\n",
    "            outgoing_count[city_a] = outgoing_count.get(city_a, 0) + 1\n",
    "            outgoing_count[city_b] = outgoing_count.get(city_b, 0)\n",
    "        for city in outgoing_count:\n",
    "            if outgoing_count[city] == 0:\n",
    "                return city"
   ]
  },
  {
   "cell_type": "code",
   "execution_count": null,
   "metadata": {},
   "outputs": [],
   "source": [
    "paths = [[\"a\",\"b\"], [\"c\", \"d\"],[\"b\", \"c\"]]\n",
    "outgoing_count = {}\n",
    "for path in paths:\n",
    "    city_a, city_b = path\n",
    "    outgoing_count[city_a] = outgoing_count.get(city_a, 0) + 1\n",
    "    outgoing_count[city_b] = outgoing_count.get(city_b, 0)\n",
    "for city in outgoing_count:\n",
    "    if outgoing_count[city] == 0:\n",
    "        print(city)"
   ]
  },
  {
   "cell_type": "code",
   "execution_count": null,
   "metadata": {},
   "outputs": [],
   "source": [
    "paths = [[\"a\",\"b\"], [\"c\", \"d\"],[\"b\", \"c\"]]\n",
    "out_count = {}\n",
    "for path in paths:\n",
    "    city_1, city_2 = path\n",
    "    out_count[city_1] = out_count.get(city_1, 0)+1\n",
    "    out_count[city_2] = out_count.get(city_2, 0)\n",
    "print(out_count)\n",
    "    "
   ]
  },
  {
   "cell_type": "code",
   "execution_count": null,
   "metadata": {},
   "outputs": [],
   "source": [
    "nums  = [8,1,2,2,3]\n",
    "output = []\n",
    "for i in range(len(nums)):\n",
    "    count  = 0\n",
    "    for j in range(len(nums)):\n",
    "        if j!=i and nums[j] < nums[i]:\n",
    "            count = count + 1\n",
    "    output.append(count)\n",
    "print(output)"
   ]
  },
  {
   "cell_type": "code",
   "execution_count": 4,
   "metadata": {},
   "outputs": [
    {
     "name": "stdout",
     "output_type": "stream",
     "text": [
      "[4, 0, 1, 1, 3]\n"
     ]
    }
   ],
   "source": [
    "nums  = [8,1,2,2,3]\n",
    "sorted_nums = sorted(nums, reverse = True )\n",
    "smaller_count = {}\n",
    "for i in range(len(sorted_nums)-1):\n",
    "    curr_num = sorted_nums[i]\n",
    "    next_num = sorted_nums[i+1]\n",
    "    if next_num < curr_num:\n",
    "        remaining_values = len(sorted_nums) - (i+1)\n",
    "        smaller_count[curr_num] = remaining_values\n",
    "smaller_count[sorted_nums[-1]] = 0\n",
    "output = []\n",
    "for num in nums:\n",
    "    output.append(smaller_count[num])\n",
    "print(output)"
   ]
  },
  {
   "cell_type": "code",
   "execution_count": 3,
   "metadata": {},
   "outputs": [
    {
     "name": "stdout",
     "output_type": "stream",
     "text": [
      "-1\n"
     ]
    }
   ],
   "source": [
    "nums = [0,3,5,-1,12]\n",
    "target = 9\n",
    "if target in nums:\n",
    "    count = -1\n",
    "    for i in nums:\n",
    "        if target != i:\n",
    "            count = count+1\n",
    "    print(count)\n",
    "else:\n",
    "    print(-1)"
   ]
  },
  {
   "cell_type": "code",
   "execution_count": 231,
   "metadata": {},
   "outputs": [],
   "source": [
    "class solution:\n",
    "    def search(nums, target):\n",
    "        for i, num in enumerate(nums):\n",
    "            if num == target:\n",
    "                return i\n",
    "        return -1"
   ]
  },
  {
   "cell_type": "code",
   "execution_count": 234,
   "metadata": {},
   "outputs": [
    {
     "ename": "TypeError",
     "evalue": "search() takes 2 positional arguments but 3 were given",
     "output_type": "error",
     "traceback": [
      "\u001b[0;31m---------------------------------------------------------------------------\u001b[0m",
      "\u001b[0;31mTypeError\u001b[0m                                 Traceback (most recent call last)",
      "\u001b[0;32m<ipython-input-234-804830655dce>\u001b[0m in \u001b[0;36m<module>\u001b[0;34m\u001b[0m\n\u001b[1;32m      1\u001b[0m \u001b[0man\u001b[0m \u001b[0;34m=\u001b[0m \u001b[0msolution\u001b[0m\u001b[0;34m(\u001b[0m\u001b[0;34m)\u001b[0m\u001b[0;34m\u001b[0m\u001b[0;34m\u001b[0m\u001b[0m\n\u001b[0;32m----> 2\u001b[0;31m \u001b[0man\u001b[0m\u001b[0;34m.\u001b[0m\u001b[0msearch\u001b[0m\u001b[0;34m(\u001b[0m\u001b[0;34m[\u001b[0m\u001b[0;36m2\u001b[0m\u001b[0;34m,\u001b[0m\u001b[0;36m7\u001b[0m\u001b[0;34m,\u001b[0m\u001b[0;36m11\u001b[0m\u001b[0;34m,\u001b[0m\u001b[0;36m15\u001b[0m\u001b[0;34m]\u001b[0m\u001b[0;34m,\u001b[0m\u001b[0;36m9\u001b[0m\u001b[0;34m)\u001b[0m\u001b[0;34m\u001b[0m\u001b[0;34m\u001b[0m\u001b[0m\n\u001b[0m",
      "\u001b[0;31mTypeError\u001b[0m: search() takes 2 positional arguments but 3 were given"
     ]
    }
   ],
   "source": [
    "an = solution()\n",
    "an.search([2,7,11,15],9)"
   ]
  },
  {
   "cell_type": "code",
   "execution_count": 18,
   "metadata": {},
   "outputs": [
    {
     "name": "stdin",
     "output_type": "stream",
     "text": [
      " 25\n"
     ]
    },
    {
     "name": "stdout",
     "output_type": "stream",
     "text": [
      "1389537\n"
     ]
    }
   ],
   "source": [
    "n = int(input())\n",
    "lst = [0,1,1]\n",
    "for i in range(3,n+1):\n",
    "    x = lst[i-1] + lst[i-2] + lst[i-3]\n",
    "    lst.append(x)\n",
    "print(lst[n])"
   ]
  },
  {
   "cell_type": "code",
   "execution_count": null,
   "metadata": {},
   "outputs": [],
   "source": [
    "1=1\n",
    "2=2\n",
    "3=1+1+1,2+1,1+2=3\n",
    "4=1+1+1+1,2+2,2+1+1,1+1+2,1+2+1=5\n",
    "5=1+1+1+1+1,2+2+1,1+1+1+2,122,212,1211,1121,2111"
   ]
  },
  {
   "cell_type": "code",
   "execution_count": 21,
   "metadata": {},
   "outputs": [
    {
     "name": "stdin",
     "output_type": "stream",
     "text": [
      " 5\n"
     ]
    },
    {
     "name": "stdout",
     "output_type": "stream",
     "text": [
      "8\n"
     ]
    }
   ],
   "source": [
    "#climbing stairs\n",
    "n = int(input())\n",
    "lst = [1,1]\n",
    "for i in range(2,n+1):\n",
    "    x = lst[i-1] + lst[i-2]\n",
    "    lst.append(x)\n",
    "print(lst[n])"
   ]
  },
  {
   "cell_type": "code",
   "execution_count": 13,
   "metadata": {},
   "outputs": [
    {
     "name": "stdout",
     "output_type": "stream",
     "text": [
      "[45, 21, 12, 8, 6, 5, 3, 0]\n"
     ]
    }
   ],
   "source": [
    "a = [12,45,21,3, 5,6,8,0]\n",
    "temp = 0\n",
    "for i in range(0, len(a)):\n",
    "    for j in range(0, len(a)):\n",
    "        if a[i]>a[j]:\n",
    "            temp = a[i]\n",
    "            a[i] = a[j]\n",
    "            a[j] = temp\n",
    "print(a)"
   ]
  },
  {
   "cell_type": "code",
   "execution_count": 58,
   "metadata": {},
   "outputs": [
    {
     "name": "stdout",
     "output_type": "stream",
     "text": [
      "[6, 5, 2]\n"
     ]
    }
   ],
   "source": [
    "#robber\n",
    "nums = [2,1,1,2,3,4]\n",
    "nums1= []\n",
    "nums2 = []\n",
    "nums3 = []\n",
    "for i in range(len(nums)):\n",
    "    if i%2==0:\n",
    "        nums1.append(nums[i])\n",
    "    elif i%3 == 0:\n",
    "        nums3.append(nums[i])\n",
    "    else:\n",
    "        nums2.append(nums[i])\n",
    "print([sum(nums1), sum(nums2),sum(nums3)])"
   ]
  },
  {
   "cell_type": "code",
   "execution_count": 70,
   "metadata": {},
   "outputs": [
    {
     "name": "stdout",
     "output_type": "stream",
     "text": [
      "[2]\n",
      "[2, 2]\n",
      "[2, 2, 100]\n"
     ]
    }
   ],
   "source": [
    "nums = [2,1,1,2,100]\n",
    "num = []\n",
    "j = 2\n",
    "for i in range(len(nums)):\n",
    "    if i%j == 0:\n",
    "        num.append(nums[i])\n",
    "        print(num)\n",
    "        j = j+1"
   ]
  },
  {
   "cell_type": "code",
   "execution_count": 167,
   "metadata": {},
   "outputs": [
    {
     "name": "stdout",
     "output_type": "stream",
     "text": [
      "dict_items([('b', 2)])\n",
      "2\n"
     ]
    }
   ],
   "source": [
    "#longest palindrome\n",
    "from collections import Counter\n",
    "s = \"bb\"\n",
    "dict = Counter(s)\n",
    "print(dict.items())\n",
    "count = 0\n",
    "odd = False\n",
    "for i,k in dict.items():\n",
    "    if k%2==0:\n",
    "        count = count+k\n",
    "    else:\n",
    "        count = count + k-1\n",
    "        odd = True\n",
    "if odd:\n",
    "    count = count+1\n",
    "print(count)"
   ]
  },
  {
   "cell_type": "code",
   "execution_count": 18,
   "metadata": {},
   "outputs": [
    {
     "name": "stdout",
     "output_type": "stream",
     "text": [
      "-2\n"
     ]
    }
   ],
   "source": [
    "#maximum subarray\n",
    "#wrong solution\n",
    "nums = [-2,-1]\n",
    "max_so_far = nums[0]\n",
    "max_ending_here = 0\n",
    "for i in range(0,len(nums)):\n",
    "    max_ending_here = max_ending_here + nums[i]\n",
    "    if max_ending_here <0:\n",
    "        max_ending_here = 0\n",
    "    elif (max_so_far <max_ending_here):\n",
    "        max_so_far = max_ending_here\n",
    "print(max_so_far)"
   ]
  },
  {
   "cell_type": "code",
   "execution_count": 5,
   "metadata": {},
   "outputs": [
    {
     "name": "stdout",
     "output_type": "stream",
     "text": [
      "4\n"
     ]
    }
   ],
   "source": [
    "nums = [-2,-1,2,-1,3]\n",
    "for i in range(1,len(nums)):\n",
    "    if nums[i-1] >0:\n",
    "        nums[i] = nums[i] + nums[i-1]\n",
    "print(max(nums))"
   ]
  },
  {
   "cell_type": "code",
   "execution_count": 20,
   "metadata": {},
   "outputs": [
    {
     "data": {
      "text/plain": [
       "[1, 3, 4, 5, 6, 7]"
      ]
     },
     "execution_count": 20,
     "metadata": {},
     "output_type": "execute_result"
    }
   ],
   "source": [
    "#best time to buy and sell stock\n",
    "prices = [7,1,5,3,6,4]\n",
    "sorted(prices)"
   ]
  },
  {
   "cell_type": "code",
   "execution_count": 29,
   "metadata": {},
   "outputs": [
    {
     "name": "stdout",
     "output_type": "stream",
     "text": [
      "[-5, -3, -1, -7, 1, 0, 2, 4, -2, 6, 5, 2, -4, 4, 3, -6, 2, 1, 8, 7, -1]\n"
     ]
    }
   ],
   "source": [
    "prices = [2,7,5,3,9,1,2]\n",
    "lst = []\n",
    "x=1\n",
    "for i in range(0, len(prices)):\n",
    "    for j in range(x, len(prices)):\n",
    "        k = prices[i] - prices[j]\n",
    "        lst.append(k)\n",
    "    x = x+1\n",
    "print(lst) "
   ]
  },
  {
   "cell_type": "code",
   "execution_count": 4,
   "metadata": {},
   "outputs": [
    {
     "name": "stdout",
     "output_type": "stream",
     "text": [
      "[0, 1, 1, 2, 3, 5, 8]\n"
     ]
    }
   ],
   "source": [
    "a = [0,1]\n",
    "n = 7\n",
    "for i in range(2,n):\n",
    "    k = a[i-1] + a[i-2]\n",
    "    a.append(k)\n",
    "print(a)"
   ]
  },
  {
   "cell_type": "code",
   "execution_count": 11,
   "metadata": {},
   "outputs": [
    {
     "name": "stdout",
     "output_type": "stream",
     "text": [
      "*\n",
      "**\n",
      "***\n",
      "****\n",
      "***\n",
      "**\n",
      "*\n"
     ]
    }
   ],
   "source": [
    "c = 1\n",
    "while c<=3:\n",
    "    print(c*\"*\")\n",
    "    c = c +1\n",
    "c=4\n",
    "while c>=1:\n",
    "    print(c*\"*\")\n",
    "    c = c-1"
   ]
  },
  {
   "cell_type": "code",
   "execution_count": 14,
   "metadata": {},
   "outputs": [],
   "source": [
    "def pattern(c):\n",
    "    k = 0\n",
    "    while k<=(c-1):\n",
    "        print(k*\"*\")\n",
    "        k = k +1\n",
    "    while k>=1:\n",
    "        print(k*\"*\")\n",
    "        k = k-1"
   ]
  },
  {
   "cell_type": "code",
   "execution_count": null,
   "metadata": {},
   "outputs": [],
   "source": []
  },
  {
   "cell_type": "code",
   "execution_count": 15,
   "metadata": {},
   "outputs": [
    {
     "name": "stdout",
     "output_type": "stream",
     "text": [
      "\n",
      "*\n",
      "**\n",
      "***\n",
      "****\n",
      "*****\n",
      "****\n",
      "***\n",
      "**\n",
      "*\n"
     ]
    }
   ],
   "source": [
    "pattern(5)"
   ]
  },
  {
   "cell_type": "code",
   "execution_count": 17,
   "metadata": {},
   "outputs": [
    {
     "name": "stdout",
     "output_type": "stream",
     "text": [
      "[1, 2, 3, 1, 2, 3]\n"
     ]
    }
   ],
   "source": [
    "nums = [1,2,3]\n",
    "lst = []\n",
    "for i in nums:\n",
    "    lst.append(i)\n",
    "ans = lst +nums\n",
    "print(ans)"
   ]
  },
  {
   "cell_type": "code",
   "execution_count": 19,
   "metadata": {},
   "outputs": [
    {
     "name": "stdout",
     "output_type": "stream",
     "text": [
      "[1, 3, 6, 10]\n"
     ]
    }
   ],
   "source": [
    "nums = [1,2,3,4]\n",
    "lst = []\n",
    "sums = 0\n",
    "for i in range(len(nums)):\n",
    "    sums = sums + nums[i]\n",
    "    lst.append(sums)\n",
    "print(lst)"
   ]
  },
  {
   "cell_type": "code",
   "execution_count": null,
   "metadata": {},
   "outputs": [],
   "source": [
    "i = 0\n",
    "sums = 0+nums[i]=1\n",
    "sums= 1\n",
    "i = 1\n",
    "sums =1 +nums[1]"
   ]
  },
  {
   "cell_type": "code",
   "execution_count": 20,
   "metadata": {},
   "outputs": [
    {
     "data": {
      "text/plain": [
       "3.0"
      ]
     },
     "execution_count": 20,
     "metadata": {},
     "output_type": "execute_result"
    }
   ],
   "source": [
    "nums = [2,5,1,3,4,7]\n",
    "n = len(nums)/2\n"
   ]
  },
  {
   "cell_type": "code",
   "execution_count": null,
   "metadata": {},
   "outputs": [],
   "source": []
  },
  {
   "cell_type": "code",
   "execution_count": null,
   "metadata": {},
   "outputs": [],
   "source": []
  },
  {
   "cell_type": "code",
   "execution_count": null,
   "metadata": {},
   "outputs": [],
   "source": [
    "nums = [3,4,5,2]\n",
    "for j in range(len(nums)-1):\n",
    "    for k in range(j,len(nums)-1):\n",
    "        maxs = nums[j]*nums[k]\n",
    "        \n",
    "        \n",
    "        "
   ]
  },
  {
   "cell_type": "code",
   "execution_count": null,
   "metadata": {},
   "outputs": [],
   "source": [
    "3*4 = 12\n",
    "3*5 = 15"
   ]
  },
  {
   "cell_type": "code",
   "execution_count": 21,
   "metadata": {},
   "outputs": [],
   "source": [
    "nums = [3,4,5,2,4,7,9,1,0]"
   ]
  },
  {
   "cell_type": "code",
   "execution_count": 23,
   "metadata": {},
   "outputs": [
    {
     "name": "stdout",
     "output_type": "stream",
     "text": [
      "14\n"
     ]
    }
   ],
   "source": [
    "sums = 0\n",
    "for i in range(len(nums)):\n",
    "    if i%2!=0:\n",
    "        sums = nums[i] + sums\n",
    "print(sums)"
   ]
  },
  {
   "cell_type": "code",
   "execution_count": 24,
   "metadata": {},
   "outputs": [
    {
     "name": "stdout",
     "output_type": "stream",
     "text": [
      "294\n"
     ]
    }
   ],
   "source": [
    "sums = 0\n",
    "soms = 0\n",
    "for i in range(len(nums)):\n",
    "    if i%2!=0:\n",
    "        sums = nums[i] + sums\n",
    "    if i%2==0:\n",
    "        soms = nums[i] + soms\n",
    "print(sums*soms)"
   ]
  },
  {
   "cell_type": "code",
   "execution_count": 27,
   "metadata": {},
   "outputs": [],
   "source": [
    "n = 40\n",
    "x= 0#prime\n",
    "for i in range(2,n):\n",
    "    if n%i==0:\n",
    "        x=1\n",
    "        break\n",
    "        #notprime\n",
    "    \n",
    "        "
   ]
  },
  {
   "cell_type": "code",
   "execution_count": 37,
   "metadata": {},
   "outputs": [
    {
     "name": "stdout",
     "output_type": "stream",
     "text": [
      "prime\n"
     ]
    }
   ],
   "source": [
    "def prime(n):\n",
    "    x= 0#prime\n",
    "    for i in range(2,n):\n",
    "        if n%i==0:\n",
    "            x=1\n",
    "            break"
   ]
  },
  {
   "cell_type": "code",
   "execution_count": 36,
   "metadata": {},
   "outputs": [
    {
     "name": "stdout",
     "output_type": "stream",
     "text": [
      "Not prime\n",
      "prime\n"
     ]
    }
   ],
   "source": [
    "prime(21)"
   ]
  },
  {
   "cell_type": "code",
   "execution_count": null,
   "metadata": {},
   "outputs": [],
   "source": [
    "n = 40\n",
    "x = prime\n",
    "i=2\n",
    "x=1\n",
    "break"
   ]
  },
  {
   "cell_type": "code",
   "execution_count": null,
   "metadata": {},
   "outputs": [],
   "source": [
    "n = 5445\n",
    "k = str(n)\n",
    "j = 1\n",
    "l = 0\n",
    "for i in k:\n",
    "    j = j*int(i)\n",
    "    l = l+int(i)\n",
    "print(j)\n",
    "print(l)"
   ]
  },
  {
   "cell_type": "code",
   "execution_count": 13,
   "metadata": {},
   "outputs": [
    {
     "name": "stdout",
     "output_type": "stream",
     "text": [
      "5 5 34\n",
      "4 9 3\n",
      "3 12 0\n",
      "12\n"
     ]
    }
   ],
   "source": [
    "#sum of digits\n",
    "n = 345\n",
    "sums = 0\n",
    "while n!=0:\n",
    "    a = n%10\n",
    "    sums = sums+a\n",
    "    n = int(n/10)\n",
    "    print(a, sums , n)\n",
    "print(sums)    "
   ]
  },
  {
   "cell_type": "code",
   "execution_count": 24,
   "metadata": {},
   "outputs": [
    {
     "name": "stdout",
     "output_type": "stream",
     "text": [
      "4\n",
      "1543\n"
     ]
    }
   ],
   "source": [
    "#length of digits\n",
    "n = 3451\n",
    "a = n\n",
    "x = 0\n",
    "z= 0\n",
    "while n!=0:\n",
    "    n = int(n/10)\n",
    "    x = x+1\n",
    "print(x)\n",
    "while a!=0:\n",
    "    b = a%10\n",
    "    r = b*(10**(x-1))\n",
    "    x = x-1\n",
    "    a = int(a/10)\n",
    "    z = r+z\n",
    "print(z)"
   ]
  },
  {
   "cell_type": "code",
   "execution_count": 26,
   "metadata": {},
   "outputs": [
    {
     "name": "stdout",
     "output_type": "stream",
     "text": [
      "3 154\n",
      "34 15\n",
      "345 1\n",
      "3451 0\n",
      "3451\n"
     ]
    }
   ],
   "source": [
    "n = 1543\n",
    "sums = 0\n",
    "while n>0:\n",
    "    sums = sums*10 + n%10\n",
    "    n = int(n/10)\n",
    "    print(sums, n)\n",
    "print(sums)"
   ]
  },
  {
   "cell_type": "code",
   "execution_count": null,
   "metadata": {},
   "outputs": [],
   "source": [
    "n = 44\n",
    "8%2\n",
    "4\n",
    "4%2\n",
    "2\n",
    "2%2\n",
    "0"
   ]
  },
  {
   "cell_type": "code",
   "execution_count": 5,
   "metadata": {},
   "outputs": [],
   "source": [
    "#recursion == calling function\n",
    "def isPowerOfTwo(n):\n",
    "    if(n==1):\n",
    "        return True\n",
    "    if(n==0):\n",
    "        return False\n",
    "    if(n%2==1):\n",
    "        return False\n",
    "    else:\n",
    "        return isPowerOfTwo(n/2)"
   ]
  },
  {
   "cell_type": "code",
   "execution_count": 3,
   "metadata": {},
   "outputs": [],
   "source": [
    "#231\n",
    "def power(n):\n",
    "    while(n>0):\n",
    "        if(n==1):\n",
    "            return True\n",
    "        if(n%2==1):\n",
    "            return False\n",
    "        n = int(n/2)\n",
    "    return False"
   ]
  },
  {
   "cell_type": "code",
   "execution_count": 6,
   "metadata": {},
   "outputs": [
    {
     "data": {
      "text/plain": [
       "False"
      ]
     },
     "execution_count": 6,
     "metadata": {},
     "output_type": "execute_result"
    }
   ],
   "source": [
    "power(12)"
   ]
  },
  {
   "cell_type": "code",
   "execution_count": 19,
   "metadata": {},
   "outputs": [
    {
     "name": "stdout",
     "output_type": "stream",
     "text": [
      "[0, 1, 9, 16, 100]\n"
     ]
    }
   ],
   "source": [
    "#squares of sorted array\n",
    "nums = [-4, -1, 0, 3, 10]\n",
    "lst = []\n",
    "for i in nums:\n",
    "    lst.append(i**2)\n",
    "print(sorted(lst))"
   ]
  },
  {
   "cell_type": "code",
   "execution_count": 5,
   "metadata": {},
   "outputs": [
    {
     "name": "stdout",
     "output_type": "stream",
     "text": [
      "[16, 1, 0, 9, 100]\n",
      "[1, 0, 9, 16, 100]\n"
     ]
    }
   ],
   "source": [
    "#squares of sorted array(mistake)\n",
    "nums = [-4, -1, 0, 3, 10]\n",
    "lst = []\n",
    "for i in nums:\n",
    "    lst.append(i**2)\n",
    "print(lst)\n",
    "for j in range(len(lst)):\n",
    "    maxs = lst[j]\n",
    "    index  = 0\n",
    "    for k in range(0,len(lst)-j):\n",
    "        if maxs<lst[k]:\n",
    "            maxs = lst[k]\n",
    "            index = k\n",
    "    temp = lst[len(lst)-j-1]\n",
    "    lst[len(lst)-j-1] = lst[index]\n",
    "    lst[index] = temp\n",
    "print(lst)"
   ]
  },
  {
   "cell_type": "code",
   "execution_count": 4,
   "metadata": {},
   "outputs": [
    {
     "name": "stdout",
     "output_type": "stream",
     "text": [
      "10\n"
     ]
    }
   ],
   "source": [
    "#sum of unique elements\n",
    "nums = [1,2,2,2,3,4,3,2]\n",
    "lst = []\n",
    "for i in nums:\n",
    "    if i not in lst:\n",
    "        lst.append(i)\n",
    "print(sum(lst))"
   ]
  },
  {
   "cell_type": "code",
   "execution_count": 20,
   "metadata": {},
   "outputs": [
    {
     "name": "stdout",
     "output_type": "stream",
     "text": [
      "[1, 2, 1, 2]\n"
     ]
    }
   ],
   "source": [
    "#shuffle of the array\n",
    "nums = [1,1,2,2]\n",
    "lst = []\n",
    "n = int(len(nums)/2)\n",
    "for i in range(len(nums)-n):\n",
    "    lst.append(nums[i])\n",
    "    lst.append(nums[i+n])\n",
    "print(lst)"
   ]
  },
  {
   "cell_type": "code",
   "execution_count": 9,
   "metadata": {},
   "outputs": [],
   "source": [
    "#bubble sort\n",
    "def bubblesort(arr):\n",
    "    n = len(arr)\n",
    "    for i in range(n-1):\n",
    "        for j in range(n-i-1):\n",
    "            if arr[j]>arr[j+1]:\n",
    "                arr[j], arr[j+1] = arr[j+1], arr[j]\n",
    "    return arr"
   ]
  },
  {
   "cell_type": "code",
   "execution_count": 10,
   "metadata": {},
   "outputs": [
    {
     "data": {
      "text/plain": [
       "[11, 12, 22, 25, 34, 64, 90]"
      ]
     },
     "execution_count": 10,
     "metadata": {},
     "output_type": "execute_result"
    }
   ],
   "source": [
    "arr = [64, 34, 25, 12, 22, 11, 90]\n",
    "bubblesort(arr)"
   ]
  },
  {
   "cell_type": "code",
   "execution_count": null,
   "metadata": {},
   "outputs": [],
   "source": [
    "i = 0\n",
    "j = 0\n",
    "64>34\n",
    "34,64\n",
    "i = 1\n",
    "j = 1\n",
    "34>25\n",
    "25,34"
   ]
  },
  {
   "cell_type": "code",
   "execution_count": null,
   "metadata": {},
   "outputs": [],
   "source": [
    "nums = [0,2,1,5,3,4]\n",
    "ans[0] = nums[nums[0]] = nums[0] = 0\n",
    "ans[1] = nums[nums[1]] = nums[2] = 1\n"
   ]
  },
  {
   "cell_type": "code",
   "execution_count": 3,
   "metadata": {},
   "outputs": [
    {
     "name": "stdout",
     "output_type": "stream",
     "text": [
      "[0, 1, 2, 4, 5, 3]\n"
     ]
    }
   ],
   "source": [
    "#build an array from permutation\n",
    "nums = [0,2,1,5,3,4]\n",
    "ans = []\n",
    "for i in range(len(nums)):\n",
    "    ans.append(nums[nums[i]])\n",
    "print(ans)"
   ]
  },
  {
   "cell_type": "code",
   "execution_count": 7,
   "metadata": {},
   "outputs": [
    {
     "name": "stdout",
     "output_type": "stream",
     "text": [
      "3\n"
     ]
    }
   ],
   "source": [
    "#final value of variable after performing operations\n",
    "operations = [\"++X\",\"++X\",\"X++\"]\n",
    "x = 0\n",
    "for i in operations:\n",
    "    if i == \"--X\" or i== \"X--\":\n",
    "        x = x-1\n",
    "    else:\n",
    "        x = x+1\n",
    "print(x)        "
   ]
  },
  {
   "cell_type": "code",
   "execution_count": 35,
   "metadata": {},
   "outputs": [
    {
     "name": "stdout",
     "output_type": "stream",
     "text": [
      "4\n"
     ]
    }
   ],
   "source": [
    "#2006\n",
    "nums = [1,2,2,1]\n",
    "k = 1\n",
    "c = 0\n",
    "for i in range(len(nums)):\n",
    "    for j in range(i,len(nums)):\n",
    "        if (nums[i]-nums[j] == k) or (nums[i]-nums[j] == -k):\n",
    "            c = c+1\n",
    "print(c)      "
   ]
  },
  {
   "cell_type": "code",
   "execution_count": null,
   "metadata": {},
   "outputs": [],
   "source": [
    "#2037"
   ]
  },
  {
   "cell_type": "code",
   "execution_count": null,
   "metadata": {},
   "outputs": [],
   "source": [
    "seats = [3,1,5], 3 is the position of 1st seat\n",
    "students = [2,7,4], 2 is the position of 1st student"
   ]
  },
  {
   "cell_type": "code",
   "execution_count": 7,
   "metadata": {},
   "outputs": [
    {
     "name": "stdout",
     "output_type": "stream",
     "text": [
      "[1, 3, 5]\n",
      "9\n"
     ]
    }
   ],
   "source": [
    "#1588\n",
    "arr = [1,4,2,5,3]\n",
    "odd_len = []\n",
    "lst = []\n",
    "for i in range(len(arr)+1):\n",
    "    if i%2!=0:\n",
    "        odd_len.append(i)\n",
    "n = odd_len\n",
    "print(n)\n",
    "a = 0\n",
    "print(sum(n[a:n[1]]))\n"
   ]
  },
  {
   "cell_type": "code",
   "execution_count": 38,
   "metadata": {},
   "outputs": [
    {
     "data": {
      "text/plain": [
       "'nihao'"
      ]
     },
     "execution_count": 38,
     "metadata": {},
     "output_type": "execute_result"
    }
   ],
   "source": [
    "#1528\n",
    "s = \"aiohn\"\n",
    "s1 = [None]*len(s)\n",
    "indices = [3,1,4,2,0]\n",
    "for i in range(len(s)):\n",
    "        #s1.insert(indices[i],s[i])\n",
    "        #print(s1)\n",
    "        s1[indices[i]] = s[i]\n",
    "s2 = \"\".join(s1)\n",
    "s2"
   ]
  },
  {
   "cell_type": "code",
   "execution_count": 29,
   "metadata": {},
   "outputs": [
    {
     "name": "stdout",
     "output_type": "stream",
     "text": [
      "['h']\n",
      "['h', 'i']\n",
      "['n', 'h', 'i']\n",
      "['n', 'h', 'i', 'o']\n",
      "['n', 'h', 'i', 'a', 'o']\n"
     ]
    }
   ],
   "source": [
    "s = \"aiohn\"\n",
    "indices = [3,1,4,2,0]\n",
    "s1 = []\n",
    "for i in indices:\n",
    "    s1.insert(indices[i], s[i])\n",
    "    print(s1)"
   ]
  },
  {
   "cell_type": "code",
   "execution_count": 33,
   "metadata": {},
   "outputs": [
    {
     "data": {
      "text/plain": [
       "[1, 2, 3, 4]"
      ]
     },
     "execution_count": 33,
     "metadata": {},
     "output_type": "execute_result"
    }
   ],
   "source": [
    "lst = [1,2,3]\n",
    "lst.insert(5,4)\n",
    "lst"
   ]
  },
  {
   "cell_type": "code",
   "execution_count": null,
   "metadata": {},
   "outputs": [],
   "source": [
    "items = [[\"phone\",\"blue\",\"pixel\"],[\"computer\",\"silver\",\"lenovo\"],[\"phone\",\"gold\",\"iphone\"]]\n",
    "ruleKey = \"color\"\n",
    "ruleValue = \"silver\"\n",
    "\n",
    "\n"
   ]
  },
  {
   "cell_type": "code",
   "execution_count": 56,
   "metadata": {},
   "outputs": [
    {
     "name": "stdout",
     "output_type": "stream",
     "text": [
      "[1, 3, 12, 0, 0]\n"
     ]
    }
   ],
   "source": [
    "#283\n",
    "nums = [0,1,0,3,12]\n",
    "lst = []\n",
    "lst1 = []\n",
    "for i in nums:\n",
    "    if i!=0:\n",
    "        lst.append(i)\n",
    "    else:\n",
    "        lst1.append(i)\n",
    "print(sorted(lst)+ lst1)"
   ]
  },
  {
   "cell_type": "code",
   "execution_count": 9,
   "metadata": {},
   "outputs": [
    {
     "name": "stdout",
     "output_type": "stream",
     "text": [
      "[1, 3, 12, 2, 0, 0, 0]\n"
     ]
    }
   ],
   "source": [
    "#283\n",
    "nums = [0,1,0,3,12,0,2]\n",
    "j = 0\n",
    "for i in range(len(nums)):\n",
    "    if nums[i]!=0 and nums[j]==0:\n",
    "        nums[j], nums[i] = nums[i], nums[j]\n",
    "    if nums[j]!=0:\n",
    "        j = j+1\n",
    "print(nums)"
   ]
  },
  {
   "cell_type": "code",
   "execution_count": 2,
   "metadata": {},
   "outputs": [
    {
     "name": "stdout",
     "output_type": "stream",
     "text": [
      "[1, 3, 12, 0, 0]\n"
     ]
    }
   ],
   "source": [
    "#sorted\n",
    "nums = [0,1,0,3,12]\n",
    "\n",
    "c = 0\n",
    "b = 0\n",
    "for j in sorted(nums):\n",
    "    if j<0:\n",
    "        b = b+1\n",
    "        \n",
    "for i in sorted(nums):\n",
    "    if i == 0:\n",
    "        c = c+1\n",
    "print(sorted(nums)[0:(b)]+sorted(nums)[b+c:]+sorted(nums)[b:c+b])"
   ]
  },
  {
   "cell_type": "code",
   "execution_count": 31,
   "metadata": {},
   "outputs": [
    {
     "name": "stdout",
     "output_type": "stream",
     "text": [
      "[0, 1, 0, 3, 12, 0, 2, 0, 0, 0]\n",
      "3\n",
      "[1, 3, 12, 2, 0, 0, 0]\n"
     ]
    }
   ],
   "source": [
    "nums = [0,1,0,3,12,0,2]\n",
    "c = 0\n",
    "for i in range(len(nums)):\n",
    "    if nums[i]==0:\n",
    "        nums.insert(len(nums),nums[i])\n",
    "        c = c+1\n",
    "print(nums)\n",
    "print(c)\n",
    "for j in nums[0:(len(nums)-c)]:\n",
    "    if j==0:\n",
    "        nums.remove(j)\n",
    "print(nums)"
   ]
  },
  {
   "cell_type": "code",
   "execution_count": 46,
   "metadata": {},
   "outputs": [
    {
     "name": "stdout",
     "output_type": "stream",
     "text": [
      "4\n"
     ]
    }
   ],
   "source": [
    "#1684\n",
    "allowed = \"cad\"\n",
    "words = [\"cc\",\"acd\",\"b\",\"ba\",\"bac\",\"bad\",\"ac\",\"d\"]\n",
    "c = 0\n",
    "for string in words:\n",
    "    for i in range(len(string)):\n",
    "        if string[i] not in allowed:\n",
    "            c = c+1\n",
    "            break\n",
    "print(len(words)-c)  "
   ]
  },
  {
   "cell_type": "code",
   "execution_count": 18,
   "metadata": {},
   "outputs": [
    {
     "name": "stdout",
     "output_type": "stream",
     "text": [
      "True\n"
     ]
    }
   ],
   "source": [
    "#1662\n",
    "word1  = [\"abc\", \"d\", \"defg\"]\n",
    "word2 = [\"abcddefg\"]\n",
    "j = \"\"\n",
    "h = \"\"\n",
    "for i in range(len(word1)):\n",
    "    j = j + word1[i]\n",
    "for k in range(len(word2)):\n",
    "    h = h + word2[k]\n",
    "print(bool(j==h))"
   ]
  },
  {
   "cell_type": "code",
   "execution_count": 24,
   "metadata": {},
   "outputs": [
    {
     "name": "stdout",
     "output_type": "stream",
     "text": [
      "2\n"
     ]
    }
   ],
   "source": [
    "#268\n",
    "nums = [0,1,3]\n",
    "for i in range(len(nums)+1):\n",
    "    if i not in nums:\n",
    "        print(i)"
   ]
  },
  {
   "cell_type": "code",
   "execution_count": 39,
   "metadata": {},
   "outputs": [
    {
     "name": "stdout",
     "output_type": "stream",
     "text": [
      "2\n"
     ]
    }
   ],
   "source": [
    "#1646\n",
    "n = 3\n",
    "nums = []\n",
    "for i in range(n+1):\n",
    "    if i==0:\n",
    "        nums.insert(i,i)\n",
    "    if i==1:\n",
    "        nums.insert(i,i)\n",
    "    if (2*i)<=n and (2*i)>=2:\n",
    "        nums.insert(2*i, nums[i])\n",
    "    if (2*i + 1) >=2 and (2*i + 1)<=n:\n",
    "        nums.insert((2*i + 1), nums[i]+nums[i+1])\n",
    "    \n",
    "print(max(nums))     "
   ]
  },
  {
   "cell_type": "code",
   "execution_count": 45,
   "metadata": {},
   "outputs": [
    {
     "name": "stdout",
     "output_type": "stream",
     "text": [
      "4\n"
     ]
    }
   ],
   "source": [
    "#136\n",
    "nums = [4,1,2,1,2]\n",
    "from collections import Counter\n",
    "Counter(nums)\n",
    "for i, j in Counter(nums).items():\n",
    "    if j == 1:\n",
    "        print(i)"
   ]
  },
  {
   "cell_type": "code",
   "execution_count": 65,
   "metadata": {},
   "outputs": [
    {
     "name": "stdout",
     "output_type": "stream",
     "text": [
      "[4, 2, 5, 7]\n"
     ]
    }
   ],
   "source": [
    "#922\n",
    "nums = [4,2,5,7]\n",
    "lst = []\n",
    "for i in range(len(nums)):\n",
    "    for j in nums:\n",
    "        if j%2==0:\n",
    "            "
   ]
  },
  {
   "cell_type": "code",
   "execution_count": 73,
   "metadata": {},
   "outputs": [
    {
     "name": "stdout",
     "output_type": "stream",
     "text": [
      "[1, 3, 5, 6, 7]\n",
      "4\n"
     ]
    }
   ],
   "source": [
    "#35\n",
    "nums = [1,3,5,6]\n",
    "target = 7\n",
    "for i in range(len(nums)):\n",
    "    if nums[i]==target:\n",
    "        print(i)\n",
    "    if target not in nums:\n",
    "        nums.append(target)\n",
    "        nums.sort()\n",
    "print(nums)\n",
    "print(nums.index(target))\n",
    "        "
   ]
  },
  {
   "cell_type": "code",
   "execution_count": 94,
   "metadata": {},
   "outputs": [
    {
     "name": "stdout",
     "output_type": "stream",
     "text": [
      "3\n"
     ]
    }
   ],
   "source": [
    "nums = [1,3,5,6]\n",
    "target = 7\n",
    "for i in range(len(nums)):\n",
    "    \n",
    "        \n",
    "    "
   ]
  },
  {
   "cell_type": "code",
   "execution_count": 105,
   "metadata": {},
   "outputs": [
    {
     "data": {
      "text/plain": [
       "3"
      ]
     },
     "execution_count": 105,
     "metadata": {},
     "output_type": "execute_result"
    }
   ],
   "source": [
    "#485\n",
    "nums = [1,1,0,1,1,1]\n",
    "nums.index(0)+1\n",
    "\n",
    "lene\n"
   ]
  },
  {
   "cell_type": "code",
   "execution_count": 116,
   "metadata": {},
   "outputs": [
    {
     "name": "stdout",
     "output_type": "stream",
     "text": [
      "0\n"
     ]
    }
   ],
   "source": [
    "#485\n",
    "nums = [0]\n",
    "c = 0\n",
    "lst = []\n",
    "for i in range(len(nums)):\n",
    "    if nums[i]==1:\n",
    "        c = c+1\n",
    "        lst.append(c)\n",
    "    else:\n",
    "        c=0\n",
    "        lst.append(c)\n",
    "print(max(lst))\n",
    "    "
   ]
  },
  {
   "cell_type": "code",
   "execution_count": 149,
   "metadata": {},
   "outputs": [
    {
     "name": "stdout",
     "output_type": "stream",
     "text": [
      "Counter({2: 3, 1: 2, 3: 1})\n",
      "{1: 2, 2: 3, 3: 1}\n"
     ]
    }
   ],
   "source": [
    "nums = [1,1,2,2,2,3]\n",
    "from collections import Counter\n",
    "print(Counter(nums))\n",
    "for i , j in"
   ]
  },
  {
   "cell_type": "code",
   "execution_count": null,
   "metadata": {},
   "outputs": [],
   "source": [
    "#1732\n",
    "gain = [-5,1,5,0,-7]\n",
    "0,-5,-4,1,1,-6\n",
    "gain = [-4,-3,-2,-1,4,3,2]\n",
    "0,-4,-7,-9,-10,-6,-3,-1\n"
   ]
  },
  {
   "cell_type": "code",
   "execution_count": 12,
   "metadata": {},
   "outputs": [
    {
     "name": "stdout",
     "output_type": "stream",
     "text": [
      "[0, -4, -7, -9, -10, -6, -3, -1]\n",
      "0\n"
     ]
    }
   ],
   "source": [
    "gain = [-4,-3,-2,-1,4,3,2]\n",
    "lst = [0]\n",
    "for i in range(len(gain)):\n",
    "    x = gain[i]+lst[i]\n",
    "    lst.append(x)\n",
    "print(lst)\n",
    "print(max(lst))"
   ]
  },
  {
   "cell_type": "code",
   "execution_count": 42,
   "metadata": {},
   "outputs": [
    {
     "name": "stdout",
     "output_type": "stream",
     "text": [
      "1\n"
     ]
    }
   ],
   "source": [
    "#1979\n",
    "nums = [7,5,6,8,3]\n",
    "a = max(nums)\n",
    "b = min(nums)\n",
    "lst = []\n",
    "for i in range(1,b+1):\n",
    "    if a%i==0 and b%i==0:\n",
    "        lst.append(i)\n",
    "print(max(lst))"
   ]
  },
  {
   "cell_type": "code",
   "execution_count": 51,
   "metadata": {},
   "outputs": [
    {
     "name": "stdout",
     "output_type": "stream",
     "text": [
      "[0, 1]\n"
     ]
    }
   ],
   "source": [
    "#1\n",
    "nums = [3,3]\n",
    "lst = []\n",
    "target = 6\n",
    "for i in range(len(nums)):\n",
    "    for j in range(i,len(nums)):\n",
    "        if i!=j:\n",
    "            if nums[i]+nums[j] == target:\n",
    "                lst.append(i)\n",
    "                lst.append(j)\n",
    "print(lst)"
   ]
  },
  {
   "cell_type": "code",
   "execution_count": 62,
   "metadata": {},
   "outputs": [
    {
     "name": "stdout",
     "output_type": "stream",
     "text": [
      "c\n",
      "b\n"
     ]
    },
    {
     "ename": "IndexError",
     "evalue": "string index out of range",
     "output_type": "error",
     "traceback": [
      "\u001b[0;31m---------------------------------------------------------------------------\u001b[0m",
      "\u001b[0;31mIndexError\u001b[0m                                Traceback (most recent call last)",
      "\u001b[0;32m<ipython-input-62-4007f4bb7efe>\u001b[0m in \u001b[0;36m<module>\u001b[0;34m\u001b[0m\n\u001b[1;32m      3\u001b[0m \u001b[0;32mfor\u001b[0m \u001b[0mi\u001b[0m \u001b[0;32min\u001b[0m \u001b[0mstrs\u001b[0m\u001b[0;34m:\u001b[0m\u001b[0;34m\u001b[0m\u001b[0;34m\u001b[0m\u001b[0m\n\u001b[1;32m      4\u001b[0m     \u001b[0;32mfor\u001b[0m \u001b[0mj\u001b[0m \u001b[0;32min\u001b[0m \u001b[0mrange\u001b[0m\u001b[0;34m(\u001b[0m\u001b[0mlen\u001b[0m\u001b[0;34m(\u001b[0m\u001b[0mi\u001b[0m\u001b[0;34m)\u001b[0m\u001b[0;34m)\u001b[0m\u001b[0;34m:\u001b[0m\u001b[0;34m\u001b[0m\u001b[0;34m\u001b[0m\u001b[0m\n\u001b[0;32m----> 5\u001b[0;31m         \u001b[0mprint\u001b[0m\u001b[0;34m(\u001b[0m\u001b[0mi\u001b[0m\u001b[0;34m[\u001b[0m\u001b[0mj\u001b[0m\u001b[0;34m]\u001b[0m\u001b[0;34m[\u001b[0m\u001b[0mj\u001b[0m\u001b[0;34m-\u001b[0m\u001b[0;36m1\u001b[0m\u001b[0;34m]\u001b[0m\u001b[0;34m)\u001b[0m\u001b[0;34m\u001b[0m\u001b[0;34m\u001b[0m\u001b[0m\n\u001b[0m",
      "\u001b[0;31mIndexError\u001b[0m: string index out of range"
     ]
    }
   ],
   "source": [
    "#944\n",
    "strs = [\"cba\",\"daf\",\"ghi\"]\n",
    "for i in strs:\n",
    "    for j in range(len(i)):\n",
    "        print(i[j])"
   ]
  },
  {
   "cell_type": "code",
   "execution_count": 89,
   "metadata": {},
   "outputs": [
    {
     "name": "stdout",
     "output_type": "stream",
     "text": [
      "True\n"
     ]
    }
   ],
   "source": [
    "#896\n",
    "nums = [4,4,4]\n",
    "x = sorted(nums)\n",
    "y = sorted(nums, reverse = True)\n",
    "print(bool(x==nums or y==nums))"
   ]
  },
  {
   "cell_type": "code",
   "execution_count": 93,
   "metadata": {},
   "outputs": [
    {
     "name": "stdout",
     "output_type": "stream",
     "text": [
      "4\n"
     ]
    }
   ],
   "source": [
    "from collections import Counter\n",
    "nums = [1,2,3,2]\n",
    "k = 0\n",
    "Counter(nums)\n",
    "for i, j in Counter(nums).items():\n",
    "    if j==1:\n",
    "        k = k+i\n",
    "print(k)"
   ]
  },
  {
   "cell_type": "code",
   "execution_count": 15,
   "metadata": {},
   "outputs": [
    {
     "name": "stdout",
     "output_type": "stream",
     "text": [
      "[3, 1, 2]\n"
     ]
    }
   ],
   "source": [
    "#2032\n",
    "nums1 = [3,1]\n",
    "nums2 = [2,3]\n",
    "nums3 = [1,2]\n",
    "lst = []\n",
    "for i in nums1:\n",
    "    if i in nums2 or i in nums3:\n",
    "        if i not in lst:\n",
    "            lst.append(i)\n",
    "for j in nums2:\n",
    "    if j in nums1 or j in nums3:\n",
    "        if j not in lst:\n",
    "            lst.append(j)\n",
    "for k in nums3:\n",
    "    if k in nums2 or k in nums1:\n",
    "        if k not in lst:\n",
    "            lst.append(k)\n",
    "print(lst)"
   ]
  },
  {
   "cell_type": "code",
   "execution_count": 36,
   "metadata": {},
   "outputs": [
    {
     "name": "stdout",
     "output_type": "stream",
     "text": [
      "2\n",
      "[1, 2, '_']\n"
     ]
    }
   ],
   "source": [
    "#26\n",
    "nums = [1,1,2]\n",
    "lst = []\n",
    "for i in nums:\n",
    "    if i not in lst:\n",
    "        lst.append(i)\n",
    "print(len(lst))\n",
    "for j in range(len(nums)-len(lst)):\n",
    "    lst.append(str(\"_\"))\n",
    "print(lst)"
   ]
  },
  {
   "cell_type": "code",
   "execution_count": 31,
   "metadata": {},
   "outputs": [
    {
     "name": "stdout",
     "output_type": "stream",
     "text": [
      "[7, -1, -1, 7, -1, -1, -1, -1, 7, -1, 7, -1, -1, -1, 7]\n"
     ]
    }
   ],
   "source": [
    "#496(incomplete)\n",
    "nums1 = [1,3,5,2,4]\n",
    "nums2 = [6,5,4,3,2,1,7]\n",
    "\n",
    "lst = []\n",
    "for i in nums1:\n",
    "    for j in nums2[nums2.index(i)+1:]:\n",
    "        if j>i:\n",
    "            lst.append(j)\n",
    "        else:\n",
    "            lst.append(-1)\n",
    "print(lst)"
   ]
  },
  {
   "cell_type": "code",
   "execution_count": null,
   "metadata": {},
   "outputs": [],
   "source": [
    "#2037incomplete\n",
    "seats = [1,3,4]\n",
    "seats[0] = 1\n",
    "\n"
   ]
  },
  {
   "cell_type": "code",
   "execution_count": null,
   "metadata": {},
   "outputs": [],
   "source": [
    "#1984\n",
    "nums = [9,4,1,7]\n",
    "k = 2\n",
    "lst = []\n",
    "for i in nums:\n",
    "    \n"
   ]
  },
  {
   "cell_type": "code",
   "execution_count": 9,
   "metadata": {},
   "outputs": [
    {
     "name": "stdout",
     "output_type": "stream",
     "text": [
      "12\n"
     ]
    }
   ],
   "source": [
    "#1464incomplete\n",
    "nums = [3,7]\n",
    "numss = sorted(nums)\n",
    "print((numss[len(numss)-1]-1)*(numss[len(numss)-2]-1))"
   ]
  },
  {
   "cell_type": "code",
   "execution_count": 41,
   "metadata": {},
   "outputs": [
    {
     "name": "stdout",
     "output_type": "stream",
     "text": [
      "f\n"
     ]
    }
   ],
   "source": [
    "#744\n",
    "letters = [\"c\",\"f\",\"j\"]\n",
    "target = \"c\"\n",
    "lett = sorted(letters)\n",
    "for i in lett:\n",
    "    if i>target:\n",
    "        print(i)\n",
    "        break\n",
    "    if target == lett[len(lett)-1]:\n",
    "        print(lett[0])\n",
    "        break\n",
    "if target not in lett:\n",
    "    print(lett[0])\n",
    "        \n",
    "        "
   ]
  },
  {
   "cell_type": "code",
   "execution_count": 77,
   "metadata": {},
   "outputs": [
    {
     "name": "stdout",
     "output_type": "stream",
     "text": [
      "['Shogun', 'Piatti', 'Tapioca Express', 'Burger King', 'KFC']\n"
     ]
    }
   ],
   "source": [
    "#599\n",
    "list1 = [\"Shogun\",\"Piatti\",\"Tapioca Express\",\"Burger King\",\"KFC\"]\n",
    "list2 = [\"Piatti\",\"The Grill at Torrey Pines\",\"Hungry Hunter Steakhouse\",\"Shogun\"]\n",
    "lst = []\n",
    "lst1 = []\n",
    "for i in range(len(list1)):\n",
    "    if list1[i] in list2:\n",
    "        c = i + list2.index(list1[i])\n",
    "        lst.append(c)\n",
    "for i in range(len(list1)):\n",
    "    if c == min(lst):\n",
    "        lst1.append(list1[i])\n",
    "print(lst1)\n",
    "    \n",
    "        #print(i)\n",
    "        #print(list2.index(list1[i]))\n",
    "        \n"
   ]
  },
  {
   "cell_type": "code",
   "execution_count": 149,
   "metadata": {
    "collapsed": true,
    "jupyter": {
     "outputs_hidden": true
    }
   },
   "outputs": [
    {
     "ename": "TypeError",
     "evalue": "'type' object is not subscriptable",
     "output_type": "error",
     "traceback": [
      "\u001b[0;31m---------------------------------------------------------------------------\u001b[0m",
      "\u001b[0;31mTypeError\u001b[0m                                 Traceback (most recent call last)",
      "\u001b[0;32m<ipython-input-149-8cee2d5ae444>\u001b[0m in \u001b[0;36m<module>\u001b[0;34m\u001b[0m\n\u001b[1;32m      1\u001b[0m \u001b[0;31m#1346\u001b[0m\u001b[0;34m\u001b[0m\u001b[0;34m\u001b[0m\u001b[0;34m\u001b[0m\u001b[0m\n\u001b[0;32m----> 2\u001b[0;31m \u001b[0;32mclass\u001b[0m \u001b[0mSolution\u001b[0m\u001b[0;34m:\u001b[0m\u001b[0;34m\u001b[0m\u001b[0;34m\u001b[0m\u001b[0m\n\u001b[0m\u001b[1;32m      3\u001b[0m     \u001b[0;32mdef\u001b[0m \u001b[0mcheckIfExist\u001b[0m\u001b[0;34m(\u001b[0m\u001b[0marr\u001b[0m\u001b[0;34m:\u001b[0m \u001b[0mlist\u001b[0m\u001b[0;34m[\u001b[0m\u001b[0mint\u001b[0m\u001b[0;34m]\u001b[0m\u001b[0;34m)\u001b[0m\u001b[0;34m:\u001b[0m\u001b[0;34m\u001b[0m\u001b[0;34m\u001b[0m\u001b[0m\n\u001b[1;32m      4\u001b[0m         \u001b[0;32mfrom\u001b[0m \u001b[0mcollections\u001b[0m \u001b[0;32mimport\u001b[0m \u001b[0mCounter\u001b[0m\u001b[0;34m\u001b[0m\u001b[0;34m\u001b[0m\u001b[0m\n\u001b[1;32m      5\u001b[0m         \u001b[0ms\u001b[0m \u001b[0;34m=\u001b[0m \u001b[0mCounter\u001b[0m\u001b[0;34m(\u001b[0m\u001b[0marr\u001b[0m\u001b[0;34m)\u001b[0m\u001b[0;34m\u001b[0m\u001b[0;34m\u001b[0m\u001b[0m\n",
      "\u001b[0;32m<ipython-input-149-8cee2d5ae444>\u001b[0m in \u001b[0;36mSolution\u001b[0;34m()\u001b[0m\n\u001b[1;32m      1\u001b[0m \u001b[0;31m#1346\u001b[0m\u001b[0;34m\u001b[0m\u001b[0;34m\u001b[0m\u001b[0;34m\u001b[0m\u001b[0m\n\u001b[1;32m      2\u001b[0m \u001b[0;32mclass\u001b[0m \u001b[0mSolution\u001b[0m\u001b[0;34m:\u001b[0m\u001b[0;34m\u001b[0m\u001b[0;34m\u001b[0m\u001b[0m\n\u001b[0;32m----> 3\u001b[0;31m     \u001b[0;32mdef\u001b[0m \u001b[0mcheckIfExist\u001b[0m\u001b[0;34m(\u001b[0m\u001b[0marr\u001b[0m\u001b[0;34m:\u001b[0m \u001b[0mlist\u001b[0m\u001b[0;34m[\u001b[0m\u001b[0mint\u001b[0m\u001b[0;34m]\u001b[0m\u001b[0;34m)\u001b[0m\u001b[0;34m:\u001b[0m\u001b[0;34m\u001b[0m\u001b[0;34m\u001b[0m\u001b[0m\n\u001b[0m\u001b[1;32m      4\u001b[0m         \u001b[0;32mfrom\u001b[0m \u001b[0mcollections\u001b[0m \u001b[0;32mimport\u001b[0m \u001b[0mCounter\u001b[0m\u001b[0;34m\u001b[0m\u001b[0;34m\u001b[0m\u001b[0m\n\u001b[1;32m      5\u001b[0m         \u001b[0ms\u001b[0m \u001b[0;34m=\u001b[0m \u001b[0mCounter\u001b[0m\u001b[0;34m(\u001b[0m\u001b[0marr\u001b[0m\u001b[0;34m)\u001b[0m\u001b[0;34m\u001b[0m\u001b[0;34m\u001b[0m\u001b[0m\n",
      "\u001b[0;31mTypeError\u001b[0m: 'type' object is not subscriptable"
     ]
    }
   ],
   "source": [
    "#1346\n",
    "class Solution:\n",
    "    def checkIfExist(arr: list[int]):\n",
    "        from collections import Counter\n",
    "        s = Counter(arr)\n",
    "        if s[0]>1:\n",
    "            return True\n",
    "        for i in arr:\n",
    "            if s[2*i] and i!=0:\n",
    "                return True\n",
    "        return False"
   ]
  },
  {
   "cell_type": "code",
   "execution_count": 165,
   "metadata": {},
   "outputs": [
    {
     "name": "stdout",
     "output_type": "stream",
     "text": [
      "1\n"
     ]
    }
   ],
   "source": [
    "#674incorrect\n",
    "nums = [1]\n",
    "c = 1\n",
    "lst = []\n",
    "try: \n",
    "    for i in range(len(nums)):\n",
    "        if nums[i]<nums[i+1]:\n",
    "            c = c+1\n",
    "            lst.append(c)\n",
    "        if nums[i]>nums[i+1]:\n",
    "            c = 1\n",
    "            lst.append(c)\n",
    "        else:\n",
    "            lst.append(1)\n",
    "    print(max(lst))\n",
    "except:\n",
    "    print(1)"
   ]
  },
  {
   "cell_type": "code",
   "execution_count": 223,
   "metadata": {},
   "outputs": [
    {
     "name": "stdout",
     "output_type": "stream",
     "text": [
      "Counter({1: 2, 2: 2, 3: 2})\n",
      "[0, 3, 1, 4, 2, 5]\n",
      "False\n",
      "True\n",
      "False\n",
      "True\n",
      "False\n"
     ]
    }
   ],
   "source": [
    "#219\n",
    "from collections import Counter\n",
    "nums = [1,2,3,1,2,3]\n",
    "lst = []\n",
    "s = Counter(nums)\n",
    "k = 2\n",
    "print(s)\n",
    "for i, j in s.items():\n",
    "    if j>1:\n",
    "        for d in range(len(nums)):\n",
    "            if nums[d]==i:\n",
    "                lst.append(d)\n",
    "print(lst)\n",
    "for x in range(len(lst)-1):\n",
    "    if abs(lst[x]-lst[x+1])<=k:\n",
    "        print(True)\n",
    "    else:\n",
    "        print(False)\n",
    "    "
   ]
  },
  {
   "cell_type": "code",
   "execution_count": 235,
   "metadata": {},
   "outputs": [],
   "source": [
    "from collections import Counter\n",
    "s = Counter(nums)\n",
    "def tf(nums):\n",
    "    s = Counter(nums)\n",
    "    lst = []\n",
    "    k = 2\n",
    "    for i, j in s.items():\n",
    "        if j>1:\n",
    "            for d in range(len(nums)):\n",
    "                if nums[d] ==i:\n",
    "                    lst.append(d)\n",
    "    for x in range(len(lst)-1):\n",
    "        if abs(lst[x]-lst[x+1])<=k:\n",
    "            return True\n",
    "    return False"
   ]
  },
  {
   "cell_type": "code",
   "execution_count": 256,
   "metadata": {},
   "outputs": [],
   "source": [
    "def tf(nums):\n",
    "    k = 4\n",
    "    print(list(enumerate(nums)))\n",
    "    dic = {}\n",
    "    for i, v in enumerate(nums):\n",
    "        if v in dic and i-dic[v]<=k:\n",
    "            return True\n",
    "        dic[v] = i\n",
    "    return False"
   ]
  },
  {
   "cell_type": "code",
   "execution_count": 260,
   "metadata": {},
   "outputs": [
    {
     "data": {
      "text/plain": [
       "False"
      ]
     },
     "execution_count": 260,
     "metadata": {},
     "output_type": "execute_result"
    }
   ],
   "source": [
    "tf([1,2,3,1])"
   ]
  },
  {
   "cell_type": "code",
   "execution_count": null,
   "metadata": {},
   "outputs": [],
   "source": [
    "1not in v\n",
    "1:0\n",
    "2 not in v\n",
    "2:1\n",
    "3 not in v\n",
    "3:2\n",
    "1 in v\n",
    "0-1<2\n",
    "2 in v\n",
    "\n",
    "3 in v"
   ]
  },
  {
   "cell_type": "code",
   "execution_count": 269,
   "metadata": {},
   "outputs": [
    {
     "name": "stdout",
     "output_type": "stream",
     "text": [
      "False\n",
      "False\n",
      "False\n",
      "False\n",
      "False\n",
      "False\n",
      "False\n",
      "False\n",
      "False\n",
      "False\n",
      "False\n",
      "False\n",
      "False\n",
      "False\n",
      "False\n"
     ]
    }
   ],
   "source": [
    "nums = [1,2,3,1,2,3]\n",
    "k = 2\n",
    "for i in range(len(nums)):\n",
    "    for j in range(i+1,len(nums)):\n",
    "        if nums[i]==nums[j] and abs(i-j)<=k:\n",
    "            print(True)\n",
    "        else:\n",
    "            print(False)"
   ]
  },
  {
   "cell_type": "code",
   "execution_count": 289,
   "metadata": {},
   "outputs": [
    {
     "name": "stdout",
     "output_type": "stream",
     "text": [
      "[1, 2, 3, 4, 5, 6, 7, 8, 9]\n",
      "True\n"
     ]
    }
   ],
   "source": [
    "#1893\n",
    "ranges = [[1,2],[3,4],[5,9]]\n",
    "left = 2\n",
    "right = 5\n",
    "lst = []\n",
    "for i in ranges:\n",
    "    for j in range(i[0],i[-1]+1):\n",
    "        lst.append(j)\n",
    "print(lst)\n",
    "lst1 = []\n",
    "for k in range(left,right+1):\n",
    "    if k in lst:\n",
    "        lst1.append(True)\n",
    "    else:\n",
    "        lst1.append(False)\n",
    "if False in lst1:\n",
    "    print(False)\n",
    "else:\n",
    "    print(True)"
   ]
  },
  {
   "cell_type": "code",
   "execution_count": 340,
   "metadata": {},
   "outputs": [
    {
     "name": "stdout",
     "output_type": "stream",
     "text": [
      "['t', 'c']\n",
      "['hello', 'world']\n",
      "10\n"
     ]
    }
   ],
   "source": [
    "#1160\n",
    "words = [\"hello\",\"world\",\"leetcode\"]\n",
    "chars = \"welldonehoneyr\"\n",
    "lst = []\n",
    "for i in words:\n",
    "    for j in i:\n",
    "        if j not in chars:\n",
    "            lst.append(j)\n",
    "print(lst) \n",
    "for word in words:\n",
    "    for l in lst:\n",
    "        if l in word:\n",
    "            words.remove(word)\n",
    "            break\n",
    "print(words)\n",
    "z = 0\n",
    "for p in words:\n",
    "    s = len(p)\n",
    "    z = s+z\n",
    "print(z)"
   ]
  },
  {
   "cell_type": "code",
   "execution_count": 379,
   "metadata": {},
   "outputs": [
    {
     "name": "stdout",
     "output_type": "stream",
     "text": [
      "Counter({'e': 3, 'l': 2, 'o': 2, 'n': 2, 'w': 1, 'd': 1, 'h': 1, 'y': 1, 'r': 1})\n",
      "Counter({'l': 2, 'h': 1, 'e': 1, 'o': 1})\n",
      "Counter({'w': 1, 'o': 1, 'r': 1, 'l': 1, 'd': 1})\n",
      "[]\n"
     ]
    }
   ],
   "source": [
    "from collections import Counter\n",
    "chars = \"welldonehoneyr\"\n",
    "words = ['hello', 'world']\n",
    "print(Counter(chars))\n",
    "for x1, x2 in Counter(chars).items():\n",
    "    for word in words:\n",
    "        print(Counter(word))\n",
    "        for y1,y2 in Counter(word).items():\n",
    "            if y2<=x2:\n",
    "                words.remove(word)\n",
    "                break\n",
    "print(words)\n",
    "#for word in words:\n",
    "#   print(Counter(word))"
   ]
  },
  {
   "cell_type": "code",
   "execution_count": 345,
   "metadata": {},
   "outputs": [
    {
     "ename": "TypeError",
     "evalue": "descriptor 'items' of 'dict' object needs an argument",
     "output_type": "error",
     "traceback": [
      "\u001b[0;31m---------------------------------------------------------------------------\u001b[0m",
      "\u001b[0;31mTypeError\u001b[0m                                 Traceback (most recent call last)",
      "\u001b[0;32m<ipython-input-345-c65b60b4e08d>\u001b[0m in \u001b[0;36m<module>\u001b[0;34m\u001b[0m\n\u001b[1;32m      1\u001b[0m \u001b[0mCounter\u001b[0m\u001b[0;34m(\u001b[0m\u001b[0;34m{\u001b[0m\u001b[0;34m'e'\u001b[0m\u001b[0;34m:\u001b[0m \u001b[0;36m3\u001b[0m\u001b[0;34m,\u001b[0m \u001b[0;34m'l'\u001b[0m\u001b[0;34m:\u001b[0m \u001b[0;36m2\u001b[0m\u001b[0;34m,\u001b[0m \u001b[0;34m'o'\u001b[0m\u001b[0;34m:\u001b[0m \u001b[0;36m2\u001b[0m\u001b[0;34m,\u001b[0m \u001b[0;34m'n'\u001b[0m\u001b[0;34m:\u001b[0m \u001b[0;36m2\u001b[0m\u001b[0;34m,\u001b[0m \u001b[0;34m'w'\u001b[0m\u001b[0;34m:\u001b[0m \u001b[0;36m1\u001b[0m\u001b[0;34m,\u001b[0m \u001b[0;34m'd'\u001b[0m\u001b[0;34m:\u001b[0m \u001b[0;36m1\u001b[0m\u001b[0;34m,\u001b[0m \u001b[0;34m'h'\u001b[0m\u001b[0;34m:\u001b[0m \u001b[0;36m1\u001b[0m\u001b[0;34m,\u001b[0m \u001b[0;34m'y'\u001b[0m\u001b[0;34m:\u001b[0m \u001b[0;36m1\u001b[0m\u001b[0;34m,\u001b[0m \u001b[0;34m'r'\u001b[0m\u001b[0;34m:\u001b[0m \u001b[0;36m1\u001b[0m\u001b[0;34m}\u001b[0m\u001b[0;34m)\u001b[0m\u001b[0;34m\u001b[0m\u001b[0;34m\u001b[0m\u001b[0m\n\u001b[0;32m----> 2\u001b[0;31m \u001b[0;32mfor\u001b[0m \u001b[0mi\u001b[0m\u001b[0;34m,\u001b[0m \u001b[0mj\u001b[0m \u001b[0;32min\u001b[0m \u001b[0mCounter\u001b[0m\u001b[0;34m.\u001b[0m\u001b[0mitems\u001b[0m\u001b[0;34m(\u001b[0m\u001b[0;34m)\u001b[0m\u001b[0;34m:\u001b[0m\u001b[0;34m\u001b[0m\u001b[0;34m\u001b[0m\u001b[0m\n\u001b[0m\u001b[1;32m      3\u001b[0m     \u001b[0mprint\u001b[0m\u001b[0;34m(\u001b[0m\u001b[0mi\u001b[0m\u001b[0;34m)\u001b[0m\u001b[0;34m\u001b[0m\u001b[0;34m\u001b[0m\u001b[0m\n\u001b[1;32m      4\u001b[0m     \u001b[0mprint\u001b[0m\u001b[0;34m(\u001b[0m\u001b[0mj\u001b[0m\u001b[0;34m)\u001b[0m\u001b[0;34m\u001b[0m\u001b[0;34m\u001b[0m\u001b[0m\n",
      "\u001b[0;31mTypeError\u001b[0m: descriptor 'items' of 'dict' object needs an argument"
     ]
    }
   ],
   "source": [
    "from collections import Counter\n",
    "chars = \"welldonehoneyr\"\n",
    "words = ['hello', 'world']\n",
    "print(Counter(chars))\n",
    "for word in words:\n",
    "    for x1, x2 in Counter(word).items():\n",
    "        for y1, y2 in Counter(chars).items(x1):\n",
    "            "
   ]
  },
  {
   "cell_type": "code",
   "execution_count": 23,
   "metadata": {},
   "outputs": [
    {
     "name": "stdout",
     "output_type": "stream",
     "text": [
      "Counter({-126: 19, 68: 18, -44: 17, -94: 16, 165: 15, -130: 14, 181: 14, 131: 13, 21: 12, -39: 10, 128: 9, -30: 8, 139: 7, -154: 6, -190: 5, 159: 4, 183: 2, -90: 1})\n",
      "[14, 12, 6, 4, 17, 19, 15, 18, 9, 16, 8, 10, 14, 7, 13, 2, 5, 1]\n",
      "14 2\n",
      "12 1\n",
      "6 1\n",
      "4 1\n",
      "17 1\n",
      "19 1\n",
      "15 1\n",
      "18 1\n",
      "9 1\n",
      "16 1\n",
      "8 1\n",
      "10 1\n",
      "7 1\n",
      "13 1\n",
      "2 1\n",
      "5 1\n",
      "1 1\n"
     ]
    }
   ],
   "source": [
    "#1207\n",
    "from collections import Counter\n",
    "arr = [-130,21,-154,159,-44,-126,165,68,-126,-126,-126,128,-94,165,-30,-44,-39,-94,21,-130,68,68,128,-130,-39,181,68,68,68,139,139,-39,21,21,-39,68,128,131,-126,-154,-30,165,21,159,181,-39,-126,131,-94,-44,131,128,21,-44,128,-94,183,-94,131,139,-44,128,21,181,-44,131,128,131,21,68,181,-44,-126,-130,131,-190,131,181,165,-94,165,165,-30,-154,68,-39,-44,165,-39,-126,68,68,-130,68,-94,181,-44,131,21,183,-44,21,-39,-130,-39,131,21,165,165,-126,165,-44,-94,68,68,-94,-126,-126,-30,181,165,68,-44,-39,-94,-126,-126,-30,68,181,-44,-94,-126,-44,-94,-30,131,165,-190,-130,-94,-94,181,128,181,181,181,139,-130,-94,-130,-130,139,-130,-90,-154,181,165,-30,-154,165,-190,159,165,139,-126,-44,131,-44,-190,-126,-130,-94,128,-154,68,-130,-130,68,21,-44,-30,-126,-126,131,159,-190,-126,181,139]\n",
    "\n",
    "print(Counter(arr))\n",
    "lst=[]\n",
    "for i, j in Counter(arr).items():\n",
    "    lst.append(j)\n",
    "print(lst)\n",
    "for k,l in Counter(lst).items():\n",
    "    if l>1:\n",
    "        print(False)\n",
    "    else:\n",
    "        print(True)"
   ]
  },
  {
   "cell_type": "code",
   "execution_count": 22,
   "metadata": {},
   "outputs": [
    {
     "name": "stdout",
     "output_type": "stream",
     "text": [
      "[0, 1, -1, 2]\n"
     ]
    }
   ],
   "source": [
    "#1304\n",
    "n = 4\n",
    "lst = []\n",
    "c = 0\n",
    "for i in range(n):\n",
    "    lst.append(i)\n",
    "    lst.append(-i)\n",
    "print(lst[1:n+1])\n",
    "    \n",
    "    \n"
   ]
  },
  {
   "cell_type": "code",
   "execution_count": 9,
   "metadata": {},
   "outputs": [
    {
     "name": "stdout",
     "output_type": "stream",
     "text": [
      "1\n"
     ]
    }
   ],
   "source": [
    "#1295\n",
    "nums = [555,901,482,1771]\n",
    "c = 0\n",
    "for i in nums:\n",
    "    if len(str(i))%2==0:\n",
    "        c = c+1\n",
    "print(c)\n",
    "            "
   ]
  },
  {
   "cell_type": "code",
   "execution_count": 14,
   "metadata": {},
   "outputs": [
    {
     "name": "stdout",
     "output_type": "stream",
     "text": [
      "[4, 9, 9, 49, 121]\n"
     ]
    }
   ],
   "source": [
    "#977\n",
    "nums = [-7,-3,2,3,11]\n",
    "lst = []\n",
    "for i in nums:\n",
    "    lst.append(i**2)\n",
    "print(sorted(lst))"
   ]
  },
  {
   "cell_type": "code",
   "execution_count": null,
   "metadata": {},
   "outputs": [],
   "source": [
    "#944\n",
    "strs = [\"abc\", \"bce\", \"cae\"]\n",
    "for i in strs:\n",
    "    for j in i\n",
    "    "
   ]
  },
  {
   "cell_type": "code",
   "execution_count": 4,
   "metadata": {},
   "outputs": [
    {
     "name": "stdout",
     "output_type": "stream",
     "text": [
      "False\n",
      "True\n",
      "True\n"
     ]
    }
   ],
   "source": [
    "x = \"abc\"\n",
    "y = \"a\"\n",
    "for i in x:\n",
    "    print(bool(i>y))"
   ]
  },
  {
   "cell_type": "code",
   "execution_count": 33,
   "metadata": {},
   "outputs": [
    {
     "name": "stdout",
     "output_type": "stream",
     "text": [
      "[4, 7, 12]\n"
     ]
    }
   ],
   "source": [
    "sentences = [\"alice and bob love leetcode\", \"i think so too\", \"this is great thanks very much\"]\n",
    "c= 0\n",
    "lst = []\n",
    "for i in range(len(sentences)):\n",
    "    for x in sentences[i]:\n",
    "        if x==\" \":\n",
    "            c = c+1\n",
    "    lst.append(c)\n",
    "print(lst)"
   ]
  },
  {
   "cell_type": "code",
   "execution_count": 79,
   "metadata": {},
   "outputs": [
    {
     "name": "stdout",
     "output_type": "stream",
     "text": [
      "9\n",
      "[5, 5, 3, 6, 2, 3]\n"
     ]
    }
   ],
   "source": [
    "#2114\n",
    "sentences = [\"w jrpihe zsyqn l dxchifbxlasaehj\",\"nmmfrwyl jscqyxk a xfibiooix xolyqfdspkliyejsnksfewbjom\",\"xnleojowaxwpyogyrayfgyuzhgtdzrsyococuqexggigtberizdzlyrdsfvryiynhg\",\"krpwiazoulcixkkeyogizvicdkbrsiiuhizhkxdpssynfzuigvcbovm\",\"rgmz rgztiup wqnvbucfqcyjivvoeedyxvjsmtqwpqpxmzdupfyfeewxegrlbjtsjkusyektigr\",\"o lgsbechr lqcgfiat pkqdutzrq iveyv iqzgvyddyoqqmqerbmkxlbtmdtkinlk\",\"hrvh efqvjilibdqxjlpmanmogiossjyxepotezo\",\"qstd zui nbbohtuk\",\"qsdrerdzjvhxjqchvuewevyzlkyydpeeblpc\"]\n",
    "\n",
    "print(len(sentences))\n",
    "from collections import Counter\n",
    "lst = []\n",
    "for i in range(len(sentences)):\n",
    "    for j,k in Counter(sentences[i]).items():\n",
    "        if j==\" \":\n",
    "            lst.append(k+1)\n",
    "lst1 = []\n",
    "for l in sentences:\n",
    "    if \" \" not in l:\n",
    "        lst1.append(1)\n",
    "if len(sentences)==len(lst1):\n",
    "        lst.append(1)\n",
    "print(max(lst))"
   ]
  },
  {
   "cell_type": "code",
   "execution_count": 86,
   "metadata": {},
   "outputs": [
    {
     "name": "stdout",
     "output_type": "stream",
     "text": [
      "[1, 2, 2, 3, 5]\n",
      "[1, 2]\n"
     ]
    }
   ],
   "source": [
    "#2089\n",
    "nums = [1,2,5,2,3]\n",
    "print(sorted(nums))\n",
    "target = 2\n",
    "lst = []\n",
    "for i in range(len(sorted(nums))):\n",
    "    if target ==sorted(nums)[i]:\n",
    "        lst.append(i)\n",
    "print(sorted(lst))"
   ]
  },
  {
   "cell_type": "code",
   "execution_count": 91,
   "metadata": {},
   "outputs": [
    {
     "name": "stdout",
     "output_type": "stream",
     "text": [
      "[1, 3]\n",
      "7\n",
      "18\n",
      "28\n",
      "36\n",
      "39\n"
     ]
    }
   ],
   "source": [
    "arr = [1,4,2,5,3]\n",
    "lst = []\n",
    "sums= 0\n",
    "x = 0\n",
    "for i in range(len(arr)):\n",
    "    if i%2!=0:\n",
    "        lst.append(i)\n",
    "print(lst)\n",
    "for j in range(len(arr)):\n",
    "    sums = sums+sum(arr[x:x+3])\n",
    "    print(sums)\n",
    "    x = x+1"
   ]
  },
  {
   "cell_type": "code",
   "execution_count": 94,
   "metadata": {},
   "outputs": [
    {
     "name": "stdout",
     "output_type": "stream",
     "text": [
      "22\n",
      "33\n",
      "43\n",
      "58\n"
     ]
    }
   ],
   "source": [
    "#1588*\n",
    "arr = [1,4,2,5,3]\n",
    "result=  sum(arr)\n",
    "for j in range(3,len(arr)+1,2):\n",
    "    for i in range(len(arr)):\n",
    "        if i+j>len(arr):\n",
    "            break\n",
    "        result = result +sum(arr[i:i+j])\n",
    "        print(result)\n",
    "        "
   ]
  },
  {
   "cell_type": "code",
   "execution_count": 124,
   "metadata": {},
   "outputs": [
    {
     "name": "stdout",
     "output_type": "stream",
     "text": [
      "2\n"
     ]
    }
   ],
   "source": [
    "nums = [4,3,2,1]\n",
    "lst = []\n",
    "for i in range(len(nums)):\n",
    "    if i%10==nums[i]:\n",
    "        lst.append(i)\n",
    "if bool(lst)==False:\n",
    "    print(-1)\n",
    "else:\n",
    "    print(min(lst))"
   ]
  },
  {
   "cell_type": "code",
   "execution_count": 144,
   "metadata": {},
   "outputs": [
    {
     "name": "stdout",
     "output_type": "stream",
     "text": [
      "1\n"
     ]
    }
   ],
   "source": [
    "#414\n",
    "nums = [2,2,3,1]\n",
    "lst = []\n",
    "for i in nums:\n",
    "    if i not in lst:\n",
    "        lst.append(i)\n",
    "if len(lst)>=3:\n",
    "    lst.sort(reverse = True)\n",
    "    print(lst[2])\n",
    "else:\n",
    "    print(max(lst))"
   ]
  },
  {
   "cell_type": "code",
   "execution_count": 156,
   "metadata": {},
   "outputs": [
    {
     "name": "stdout",
     "output_type": "stream",
     "text": [
      "1\n",
      "2\n",
      "3\n",
      "4\n",
      "5\n",
      "6\n",
      "7\n",
      "8\n",
      "9\n"
     ]
    }
   ],
   "source": [
    "#1572\n",
    "mat = [[1,2,3],\n",
    "       [4,5,6],\n",
    "       [7,8,9]]\n",
    "sums = 0\n",
    "for i in range(len(mat)):\n",
    "    for j in range(len(mat[i])):\n",
    "        sums = \n",
    "        print(mat[i][j])"
   ]
  },
  {
   "cell_type": "code",
   "execution_count": 169,
   "metadata": {},
   "outputs": [
    {
     "name": "stdout",
     "output_type": "stream",
     "text": [
      "5\n"
     ]
    }
   ],
   "source": [
    "#961\n",
    "nums = [5,1,5,2,5,3,5,4]\n",
    "lst = []\n",
    "for i in nums:\n",
    "    if i not in lst:\n",
    "        lst.append(i)\n",
    "    else:\n",
    "        print(i)\n",
    "        break"
   ]
  },
  {
   "cell_type": "code",
   "execution_count": 174,
   "metadata": {},
   "outputs": [
    {
     "name": "stdout",
     "output_type": "stream",
     "text": [
      "[4, 9]\n"
     ]
    }
   ],
   "source": [
    "#349\n",
    "nums1 = [4,9,5]\n",
    "nums2 = [9,4,9,8,4]\n",
    "lst = []\n",
    "lst1= []\n",
    "for i in nums1:\n",
    "    if i in nums2:\n",
    "        lst.append(i)\n",
    "for j in lst:\n",
    "    if j not in lst1:\n",
    "        lst1.append(j)\n",
    "print(lst1)"
   ]
  },
  {
   "cell_type": "code",
   "execution_count": 184,
   "metadata": {},
   "outputs": [
    {
     "name": "stdout",
     "output_type": "stream",
     "text": [
      "10\n"
     ]
    }
   ],
   "source": [
    "#1385*not done\n",
    "arr1 = [2,1,100,3]\n",
    "arr2 = [-5,-2,10,-3,7]\n",
    "d = 6\n",
    "c = 0\n",
    "for i in range(len(arr1)):\n",
    "    for j in range(len(arr2)):\n",
    "        if abs(arr1[i]-arr2[j])<=d:\n",
    "            c = c+1\n",
    "print(c)"
   ]
  },
  {
   "cell_type": "code",
   "execution_count": 227,
   "metadata": {},
   "outputs": [
    {
     "name": "stdout",
     "output_type": "stream",
     "text": [
      "True\n"
     ]
    }
   ],
   "source": [
    "#217\n",
    "nums = [2,14,18,22,22]\n",
    "lst = []\n",
    "for i in nums:\n",
    "    if i not in lst:\n",
    "        lst.append(i)\n",
    "if len(lst)<len(nums):\n",
    "    print(True)\n",
    "else:\n",
    "    print(False)"
   ]
  },
  {
   "cell_type": "code",
   "execution_count": 232,
   "metadata": {},
   "outputs": [
    {
     "name": "stdout",
     "output_type": "stream",
     "text": [
      "True\n"
     ]
    }
   ],
   "source": [
    "#217\n",
    "nums = [2,14,18,22,22]\n",
    "lst = []\n",
    "from collections import Counter\n",
    "for i, j in Counter(nums).items():\n",
    "    if j>1:\n",
    "        lst.append(True)\n",
    "    else:\n",
    "        lst.append(False)\n",
    "if True in lst:\n",
    "    print(True)\n",
    "else:\n",
    "    print(False)"
   ]
  },
  {
   "cell_type": "code",
   "execution_count": 16,
   "metadata": {},
   "outputs": [
    {
     "name": "stdout",
     "output_type": "stream",
     "text": [
      "24\n"
     ]
    }
   ],
   "source": [
    "#628\n",
    "nums =  [1,2,3,4]\n",
    "pro = 1\n",
    "x = 0\n",
    "for i in range(len(nums)):\n",
    "    pro = (nums[i]*pro)\n",
    "for j in nums:\n",
    "    "
   ]
  },
  {
   "cell_type": "code",
   "execution_count": 254,
   "metadata": {},
   "outputs": [
    {
     "name": "stdout",
     "output_type": "stream",
     "text": [
      "[6, 8]\n"
     ]
    }
   ],
   "source": [
    "lst = []\n",
    "x = 1\n",
    "y = 2\n",
    "for i in range()"
   ]
  },
  {
   "cell_type": "code",
   "execution_count": 9,
   "metadata": {},
   "outputs": [
    {
     "name": "stdout",
     "output_type": "stream",
     "text": [
      "True\n"
     ]
    }
   ],
   "source": [
    "#1550\n",
    "arr = [1,1,1]\n",
    "lst = []\n",
    "for i in range(len(arr)-2):\n",
    "    if len(arr)<3:\n",
    "        print(False)\n",
    "        break\n",
    "    if (arr[i]%2!=0) and (arr[i+1]%2!=0) and (arr[i+2]%2!=0):\n",
    "        lst.append(True)\n",
    "    else:\n",
    "        lst.append(False)\n",
    "if True in lst:\n",
    "    print(True)\n",
    "else:\n",
    "    print(False)"
   ]
  },
  {
   "cell_type": "code",
   "execution_count": 44,
   "metadata": {},
   "outputs": [
    {
     "name": "stdout",
     "output_type": "stream",
     "text": [
      "455\n",
      "[4, 5, 5]\n"
     ]
    }
   ],
   "source": [
    "#989\n",
    "nums = [2,7,4]\n",
    "k = 181\n",
    "x = len(nums)-1\n",
    "sums = 0\n",
    "for i in range(len(nums)):\n",
    "    sums = (nums[i])*(10**x)+sums\n",
    "    x = x-1\n",
    "tsum = sums+k\n",
    "print(str(tsum))\n",
    "lst = []\n",
    "for i in str(tsum):\n",
    "    lst.append(int(i))\n",
    "print(lst)"
   ]
  },
  {
   "cell_type": "code",
   "execution_count": 53,
   "metadata": {},
   "outputs": [
    {
     "name": "stdout",
     "output_type": "stream",
     "text": [
      "0\n",
      "1\n",
      "2\n",
      "3\n",
      "0\n",
      "3\n",
      "3\n",
      "7\n",
      "8\n",
      "1\n",
      "10\n",
      "3\n"
     ]
    }
   ],
   "source": [
    "#821not\n",
    "s = \"loveleetcode\"\n",
    "c = \"e\"\n",
    "for i in range(len(s)):\n",
    "    print(s.index(s[i]))"
   ]
  },
  {
   "cell_type": "code",
   "execution_count": 63,
   "metadata": {},
   "outputs": [
    {
     "ename": "NameError",
     "evalue": "name 'first' is not defined",
     "output_type": "error",
     "traceback": [
      "\u001b[0;31m---------------------------------------------------------------------------\u001b[0m",
      "\u001b[0;31mNameError\u001b[0m                                 Traceback (most recent call last)",
      "\u001b[0;32m<ipython-input-63-89b2706c0972>\u001b[0m in \u001b[0;36m<module>\u001b[0;34m\u001b[0m\n\u001b[1;32m      6\u001b[0m \u001b[0;32mfor\u001b[0m \u001b[0mi\u001b[0m \u001b[0;32min\u001b[0m \u001b[0mrange\u001b[0m\u001b[0;34m(\u001b[0m\u001b[0mlen\u001b[0m\u001b[0;34m(\u001b[0m\u001b[0mwords\u001b[0m\u001b[0;34m)\u001b[0m\u001b[0;34m)\u001b[0m\u001b[0;34m:\u001b[0m\u001b[0;34m\u001b[0m\u001b[0;34m\u001b[0m\u001b[0m\n\u001b[1;32m      7\u001b[0m     \u001b[0;32mfor\u001b[0m \u001b[0mj\u001b[0m \u001b[0;32min\u001b[0m \u001b[0mwords\u001b[0m\u001b[0;34m[\u001b[0m\u001b[0mi\u001b[0m\u001b[0;34m]\u001b[0m\u001b[0;34m:\u001b[0m\u001b[0;34m\u001b[0m\u001b[0;34m\u001b[0m\u001b[0m\n\u001b[0;32m----> 8\u001b[0;31m         \u001b[0;32mif\u001b[0m \u001b[0mj\u001b[0m \u001b[0;32min\u001b[0m \u001b[0mfirst\u001b[0m\u001b[0;34m:\u001b[0m\u001b[0;34m\u001b[0m\u001b[0;34m\u001b[0m\u001b[0m\n\u001b[0m\u001b[1;32m      9\u001b[0m             \u001b[0mlst1\u001b[0m\u001b[0;34m.\u001b[0m\u001b[0mappend\u001b[0m\u001b[0;34m(\u001b[0m\u001b[0;32mTrue\u001b[0m\u001b[0;34m)\u001b[0m\u001b[0;34m\u001b[0m\u001b[0;34m\u001b[0m\u001b[0m\n\u001b[1;32m     10\u001b[0m         \u001b[0;32melse\u001b[0m\u001b[0;34m:\u001b[0m\u001b[0;34m\u001b[0m\u001b[0;34m\u001b[0m\u001b[0m\n",
      "\u001b[0;31mNameError\u001b[0m: name 'first' is not defined"
     ]
    }
   ],
   "source": [
    "#500\n",
    "words = [\"Hello\",\"Alaska\",\"Dad\",\"Peace\"]\n",
    "lst = [\"QWERTYUIOPqwertyuiop\",\"ASDFGHJKLasdfghjkl\",\"zxcvbnmZXCVBNM\"]\n",
    "lst1 = []\n",
    "lst2 = []\n",
    "for i in range(len(words)):\n",
    "    for j in words[i]:\n",
    "        if j in first:\n",
    "            lst1.append(True)\n",
    "        else:\n",
    "            lst1.append(False)\n",
    "    if False not in lst1:\n",
    "        print(words[i])\n",
    "        "
   ]
  },
  {
   "cell_type": "code",
   "execution_count": 71,
   "metadata": {},
   "outputs": [
    {
     "name": "stdout",
     "output_type": "stream",
     "text": [
      "[]\n"
     ]
    }
   ],
   "source": [
    "#500notcompleted\n",
    "words = [\"Hello\",\"Alaska\",\"Dad\",\"Peace\"]\n",
    "lst = [\"QWERTYUIOPqwertyuiop\",\"ASDFGHJKLasdfghjkl\",\"zxcvbnmZXCVBNM\"]\n",
    "lst1 = []\n",
    "lst2 = []\n",
    "for i in range(len(words)):\n",
    "    for k in lst:\n",
    "        for j in words[i]:\n",
    "            if j in k:\n",
    "                lst1.append(True)\n",
    "            else:\n",
    "                lst1.append(False)\n",
    "    if False not in lst1:\n",
    "        lst2.append(words[i])\n",
    "print(lst2)\n",
    "    "
   ]
  },
  {
   "cell_type": "code",
   "execution_count": 7,
   "metadata": {},
   "outputs": [
    {
     "name": "stdout",
     "output_type": "stream",
     "text": [
      "-1\n"
     ]
    }
   ],
   "source": [
    "#1822\n",
    "x = 1\n",
    "nums = [-1,1,-1,1,-1]\n",
    "for i in nums:\n",
    "    x = i*x\n",
    "    \n",
    "if x>0:\n",
    "    print(1)\n",
    "if x<0:\n",
    "    print(-1)\n",
    "if x==0:\n",
    "    print(0)\n",
    "    "
   ]
  },
  {
   "cell_type": "code",
   "execution_count": 41,
   "metadata": {},
   "outputs": [
    {
     "name": "stdout",
     "output_type": "stream",
     "text": [
      "[[3, 8], [3, 9], [3, 1]]\n",
      "[2, 3, 5]\n",
      "0\n",
      "[3, 8]\n",
      "2\n"
     ]
    }
   ],
   "source": [
    "#177\n",
    "x = 3\n",
    "y = 6\n",
    "points = [[1,3],[9,8],[3,8],[3,9],[7,4],[3,1],[8,1]]\n",
    "#[3,1],[2,4],[4,4]\n",
    "vpoints = []\n",
    "try:\n",
    "    for i in points:\n",
    "        if x==i[0]:\n",
    "            vpoints.append(i)\n",
    "        if y==i[1]:\n",
    "            vpoints.append(i)\n",
    "    print(vpoints)\n",
    "    lst = []\n",
    "    for j in vpoints:\n",
    "        lst.append(abs(x-j[0])+abs(y-j[1]))\n",
    "    print(lst)\n",
    "    print(lst.index(min(lst)))\n",
    "    print(vpoints[lst.index(min(lst))])\n",
    "    print(points.index(vpoints[lst.index(min(lst))]))\n",
    "except:\n",
    "    print(-1)"
   ]
  },
  {
   "cell_type": "code",
   "execution_count": 3,
   "metadata": {},
   "outputs": [
    {
     "name": "stdout",
     "output_type": "stream",
     "text": [
      "1\n"
     ]
    }
   ],
   "source": [
    "#1450\n",
    "startTime = [4]\n",
    "endTime = [4]\n",
    "queryTime = 4\n",
    "c = 0\n",
    "for i in range(len(startTime)):\n",
    "    if queryTime in range(startTime[i],endTime[i]+1):\n",
    "        c = c+1\n",
    "print(c)\n",
    "        "
   ]
  },
  {
   "cell_type": "code",
   "execution_count": 12,
   "metadata": {},
   "outputs": [
    {
     "name": "stdout",
     "output_type": "stream",
     "text": [
      "[3, 2, 3]\n",
      "[3, 3, 3]\n"
     ]
    }
   ],
   "source": [
    "#2073not done\n",
    "tickets = [2,3,2]\n",
    "k = 2\n",
    "c = 0\n",
    "for i in range(len(tickets)-1):\n",
    "    tickets[i] = tickets[i]-1\n",
    "    tickets.pop(i)\n",
    "    tickets.append(tickets[i])\n",
    "    print(tickets)\n",
    "    "
   ]
  },
  {
   "cell_type": "code",
   "execution_count": 141,
   "metadata": {},
   "outputs": [
    {
     "name": "stdout",
     "output_type": "stream",
     "text": [
      "[]\n",
      "[]\n"
     ]
    }
   ],
   "source": [
    "#908not done\n",
    "nums = [1]\n",
    "k = 0\n",
    "#min(nums)+k= 4\n",
    "#max(nums)-3=3\n",
    "#max(nums)-2=4\n",
    "lst = []\n",
    "lst1 = []\n",
    "for i in range(1,k+1):\n",
    "    k = max(nums)-i\n",
    "    lst.append(k)\n",
    "print(lst)\n",
    "for j in range(1,k+1):\n",
    "    lst1.append(min(nums)+j)\n",
    "print(lst1)"
   ]
  },
  {
   "cell_type": "code",
   "execution_count": 137,
   "metadata": {},
   "outputs": [
    {
     "name": "stdout",
     "output_type": "stream",
     "text": [
      "[0]\n"
     ]
    }
   ],
   "source": [
    "nums=  [1]\n",
    "lst = []\n",
    "lst.append(max(nums)-1)\n",
    "print(lst)"
   ]
  },
  {
   "cell_type": "code",
   "execution_count": 70,
   "metadata": {},
   "outputs": [
    {
     "name": "stdout",
     "output_type": "stream",
     "text": [
      "[]\n",
      "[]\n"
     ]
    }
   ],
   "source": [
    "nums = [1]\n",
    "k = 0\n",
    "lst = []\n",
    "lst1 = []\n",
    "for i in range(1,k+1):\n",
    "    lst.append(max(nums)-i)\n",
    "print(lst)\n",
    "for j in range(1,k+1):\n",
    "    lst1.append(min(nums)+i)\n",
    "print(lst1)   "
   ]
  },
  {
   "cell_type": "code",
   "execution_count": 66,
   "metadata": {},
   "outputs": [
    {
     "name": "stdout",
     "output_type": "stream",
     "text": [
      "[22, 28, 8, 6]\n",
      "[17, 44]\n",
      "[22, 28, 8, 6, 17, 44]\n"
     ]
    }
   ],
   "source": [
    "#1122\n",
    "arr1 = [28,6,22,8,44,17]\n",
    "arr2 = [22,28,8,6]\n",
    "lst = []\n",
    "lst1 = []\n",
    "for i in arr2:\n",
    "    for j in arr1:\n",
    "        if i==j:\n",
    "            lst.append(i)\n",
    "print(lst)\n",
    "for k in arr1:\n",
    "    if k not in arr2:\n",
    "        lst1.append(k)\n",
    "print(sorted(lst1))\n",
    "print(lst+sorted(lst1))"
   ]
  },
  {
   "cell_type": "code",
   "execution_count": 122,
   "metadata": {},
   "outputs": [
    {
     "name": "stdout",
     "output_type": "stream",
     "text": [
      "[0, 3]\n",
      "[2, 0]\n",
      "[2, 3]\n"
     ]
    }
   ],
   "source": [
    "#922\n",
    "lst = []\n",
    "lst1 = []\n",
    "nums = [2,3]\n",
    "for i in range(len(nums)):\n",
    "    if nums[i]%2!=0:\n",
    "        lst.append(0)\n",
    "        lst.append(nums[i])\n",
    "print(lst)\n",
    "for j in range(len(nums)):\n",
    "    if nums[j]%2==0:\n",
    "        lst1.append(nums[j])\n",
    "        lst1.append(0)\n",
    "print(lst1)\n",
    "res = []\n",
    "for k in range(len(nums)):\n",
    "    res.append(lst[k]+lst1[k])\n",
    "print(res)\n",
    "        "
   ]
  },
  {
   "cell_type": "code",
   "execution_count": 130,
   "metadata": {},
   "outputs": [
    {
     "name": "stdout",
     "output_type": "stream",
     "text": [
      "[3, 5, 6, 11]\n"
     ]
    }
   ],
   "source": [
    "#821\n",
    "s = \"loveleetcode\"\n",
    "c = \"e\"\n",
    "lst = []\n",
    "for i in range(len(s)):\n",
    "    if c==s[i]:\n",
    "        lst.append(i)\n",
    "print(lst)\n",
    "for j in s:\n",
    "    "
   ]
  },
  {
   "cell_type": "code",
   "execution_count": 133,
   "metadata": {},
   "outputs": [
    {
     "name": "stdout",
     "output_type": "stream",
     "text": [
      "8\n"
     ]
    }
   ],
   "source": [
    "s = \"loveleetcode\"\n",
    "c = \"e\"\n",
    "lst = []\n",
    "l = 0\n",
    "for i in range(len(s)):\n",
    "    if s[i]!=c:\n",
    "        l = l+1"
   ]
  },
  {
   "cell_type": "code",
   "execution_count": null,
   "metadata": {},
   "outputs": [],
   "source": [
    "#908\n",
    "nums = [1,3,6]\n",
    "k = 3\n"
   ]
  },
  {
   "cell_type": "code",
   "execution_count": 165,
   "metadata": {},
   "outputs": [
    {
     "name": "stdout",
     "output_type": "stream",
     "text": [
      "1\n"
     ]
    }
   ],
   "source": [
    "#852\n",
    "arr = [0,10,5,2]\n",
    "for i in range(len(arr)-1):\n",
    "    if arr[i]<arr[i+1]:\n",
    "        c = i+1\n",
    "        continue\n",
    "print(c)"
   ]
  },
  {
   "cell_type": "code",
   "execution_count": 179,
   "metadata": {},
   "outputs": [
    {
     "name": "stdout",
     "output_type": "stream",
     "text": [
      "[12, 11, 13, 10, 16]\n",
      "a\n"
     ]
    }
   ],
   "source": [
    "#1629\n",
    "releaseTimes =[12,23,36,46,62]\n",
    "keysPressed = \"spuda\"\n",
    "lst = [releaseTimes[0]]\n",
    "for i in range(0,len(releaseTimes)-1):\n",
    "    lst.append(releaseTimes[i+1]-releaseTimes[i])\n",
    "print(lst)\n",
    "lst1 = []\n",
    "for j in range(len(lst)):\n",
    "    if lst[j]==max(lst):\n",
    "        lst1.append(keysPressed[j])\n",
    "print(max(lst1))\n",
    "        "
   ]
  },
  {
   "cell_type": "code",
   "execution_count": 217,
   "metadata": {},
   "outputs": [
    {
     "name": "stdout",
     "output_type": "stream",
     "text": [
      "[2, 4, 3, 1]\n"
     ]
    }
   ],
   "source": [
    "#905\n",
    "nums = [3,1,2,4]\n",
    "lst = []\n",
    "lst1 = []\n",
    "for i in range(len(nums)):\n",
    "    if nums[i]%2==0:\n",
    "        lst.append(nums[i])\n",
    "    else:\n",
    "        lst1.append(nums[i])\n",
    "print(lst+lst1)"
   ]
  },
  {
   "cell_type": "code",
   "execution_count": 239,
   "metadata": {},
   "outputs": [
    {
     "ename": "IndexError",
     "evalue": "list index out of range",
     "output_type": "error",
     "traceback": [
      "\u001b[0;31m---------------------------------------------------------------------------\u001b[0m",
      "\u001b[0;31mIndexError\u001b[0m                                Traceback (most recent call last)",
      "\u001b[0;32m<ipython-input-239-885148ca409b>\u001b[0m in \u001b[0;36m<module>\u001b[0;34m\u001b[0m\n\u001b[1;32m      7\u001b[0m \u001b[0;32mfor\u001b[0m \u001b[0mj\u001b[0m \u001b[0;32min\u001b[0m \u001b[0mrange\u001b[0m\u001b[0;34m(\u001b[0m\u001b[0mlen\u001b[0m\u001b[0;34m(\u001b[0m\u001b[0ms\u001b[0m\u001b[0;34m)\u001b[0m\u001b[0;34m-\u001b[0m\u001b[0mx\u001b[0m\u001b[0;34m)\u001b[0m\u001b[0;34m:\u001b[0m\u001b[0;34m\u001b[0m\u001b[0;34m\u001b[0m\u001b[0m\n\u001b[1;32m      8\u001b[0m     \u001b[0;32mfor\u001b[0m \u001b[0mi\u001b[0m \u001b[0;32min\u001b[0m \u001b[0mrange\u001b[0m\u001b[0;34m(\u001b[0m\u001b[0mlen\u001b[0m\u001b[0;34m(\u001b[0m\u001b[0mg\u001b[0m\u001b[0;34m)\u001b[0m\u001b[0;34m-\u001b[0m\u001b[0my\u001b[0m\u001b[0;34m)\u001b[0m\u001b[0;34m:\u001b[0m\u001b[0;34m\u001b[0m\u001b[0;34m\u001b[0m\u001b[0m\n\u001b[0;32m----> 9\u001b[0;31m         \u001b[0;32mif\u001b[0m \u001b[0ms\u001b[0m\u001b[0;34m[\u001b[0m\u001b[0mj\u001b[0m\u001b[0;34m]\u001b[0m\u001b[0;34m>=\u001b[0m\u001b[0mg\u001b[0m\u001b[0;34m[\u001b[0m\u001b[0mi\u001b[0m\u001b[0;34m]\u001b[0m\u001b[0;34m:\u001b[0m\u001b[0;34m\u001b[0m\u001b[0;34m\u001b[0m\u001b[0m\n\u001b[0m\u001b[1;32m     10\u001b[0m             \u001b[0mc\u001b[0m \u001b[0;34m=\u001b[0m \u001b[0mc\u001b[0m\u001b[0;34m+\u001b[0m\u001b[0;36m1\u001b[0m\u001b[0;34m\u001b[0m\u001b[0;34m\u001b[0m\u001b[0m\n\u001b[1;32m     11\u001b[0m             \u001b[0mg\u001b[0m\u001b[0;34m.\u001b[0m\u001b[0mpop\u001b[0m\u001b[0;34m(\u001b[0m\u001b[0mi\u001b[0m\u001b[0;34m)\u001b[0m\u001b[0;34m\u001b[0m\u001b[0;34m\u001b[0m\u001b[0m\n",
      "\u001b[0;31mIndexError\u001b[0m: list index out of range"
     ]
    }
   ],
   "source": [
    "#455\n",
    "g = [1,2,3]\n",
    "s = [1,1]\n",
    "c = 0\n",
    "x = 0\n",
    "y = 0\n",
    "for j in range(len(s)-x):\n",
    "    for i in range(len(g)-y):\n",
    "        if s[j]>=g[i]:\n",
    "            c = c+1\n",
    "            g.pop(i)\n",
    "            y = y+1\n",
    "    s.pop(j)\n",
    "    x = x+1\n",
    "            \n",
    "print(c)"
   ]
  },
  {
   "cell_type": "code",
   "execution_count": 260,
   "metadata": {},
   "outputs": [
    {
     "name": "stdout",
     "output_type": "stream",
     "text": [
      "[[0, 1, 1], [1, 0, 1], [0, 0, 0]]\n",
      "[[1, 0, 0], [0, 1, 0], [1, 1, 1]]\n"
     ]
    }
   ],
   "source": [
    "#832\n",
    "image = [[1,1,0],[1,0,1],[0,0,0]]\n",
    "lst = []\n",
    "for i in image:\n",
    "    lst.append(i[::-1])#reverse\n",
    "print(lst)\n",
    "lst1 = []\n",
    "for j in lst:\n",
    "    a = [1-k for k in j]\n",
    "    lst1.append(a)\n",
    "print(lst1)"
   ]
  },
  {
   "cell_type": "code",
   "execution_count": 302,
   "metadata": {},
   "outputs": [
    {
     "name": "stdout",
     "output_type": "stream",
     "text": [
      "[1, 3, 5]\n",
      "[2, 2]\n",
      "[True]\n",
      "True\n"
     ]
    }
   ],
   "source": [
    "#1502\n",
    "arr = [3,5,1]\n",
    "\n",
    "x = sorted(arr)\n",
    "print(x)\n",
    "if len(arr)==2:\n",
    "    print(True)\n",
    "else:\n",
    "    lst = []\n",
    "    lst1 = []\n",
    "    for i in range(len(x)-1):\n",
    "        lst.append(x[i+1]-x[i])\n",
    "    print(lst)\n",
    "    for j in range(len(lst)-1):\n",
    "        if lst[j]!=lst[j+1]:\n",
    "            lst1.append(False)\n",
    "        else:\n",
    "            lst1.append(True)\n",
    "    print(lst1)\n",
    "    if False in lst1:\n",
    "        print(False)\n",
    "    else:\n",
    "        print(True)"
   ]
  },
  {
   "cell_type": "code",
   "execution_count": 315,
   "metadata": {},
   "outputs": [
    {
     "name": "stdout",
     "output_type": "stream",
     "text": [
      "2\n"
     ]
    }
   ],
   "source": [
    "#1128 not done\n",
    "dominoes = [[1,2],[1,2],[1,1],[1,2],[2,2]]\n",
    "c= 0\n",
    "lst = []\n",
    "for i in range(len(dominoes)-1):\n",
    "    if (dominoes[i] or dominoes[i].reverse()) in dominoes[i+1:]:\n",
    "        c = c+1\n",
    "print(c)"
   ]
  },
  {
   "cell_type": "code",
   "execution_count": null,
   "metadata": {},
   "outputs": [],
   "source": [
    "#976not done\n",
    "nums = [2,1,2]\n",
    "lst = []\n"
   ]
  },
  {
   "cell_type": "code",
   "execution_count": 343,
   "metadata": {},
   "outputs": [
    {
     "name": "stdout",
     "output_type": "stream",
     "text": [
      "Counter({2: 2, 3: 2, 1: 1})\n",
      "[1, 2, 2]\n",
      "[1, 2, 3, 2, 3]\n"
     ]
    }
   ],
   "source": [
    "#1636 not done\n",
    "nums =  [2,3,1,3,2]\n",
    "from collections import Counter\n",
    "print(Counter(nums))\n",
    "lst = []\n",
    "lst1 = []\n",
    "for i,j in Counter(nums).items():\n",
    "    lst.append(j)\n",
    "x = sorted(lst)\n",
    "print(x)\n",
    "for y in x:\n",
    "    for k,v in Counter(nums).items():\n",
    "        if v==y:\n",
    "            lst1.append(k)\n",
    "print(lst1)"
   ]
  },
  {
   "cell_type": "code",
   "execution_count": 360,
   "metadata": {},
   "outputs": [
    {
     "name": "stdout",
     "output_type": "stream",
     "text": [
      "[1, -1]\n"
     ]
    }
   ],
   "source": [
    "#1299\n",
    "arr = [400,1]\n",
    "lst = []\n",
    "for i in range(0,len(arr)-1):\n",
    "    lst.append(max(arr[i+1:len(arr)]))\n",
    "lst.append(-1)\n",
    "print(lst)"
   ]
  },
  {
   "cell_type": "code",
   "execution_count": 374,
   "metadata": {},
   "outputs": [
    {
     "name": "stdout",
     "output_type": "stream",
     "text": [
      "[2, 1]\n"
     ]
    }
   ],
   "source": [
    "#645\n",
    "from collections import Counter\n",
    "nums = [2,2]\n",
    "lst = []\n",
    "for j, k in Counter(nums).items():\n",
    "    if k>1:\n",
    "        lst.append(j)\n",
    "for i in range(1, len(nums)+1):\n",
    "    if i not in nums:\n",
    "        lst.append(i)\n",
    "print(lst)"
   ]
  },
  {
   "cell_type": "code",
   "execution_count": 379,
   "metadata": {},
   "outputs": [
    {
     "name": "stdout",
     "output_type": "stream",
     "text": [
      "-1\n"
     ]
    }
   ],
   "source": [
    "#1394\n",
    "arr = [2,2,2,3,3]\n",
    "lst = []\n",
    "from collections import Counter\n",
    "for i,j in Counter(arr).items():\n",
    "    if i==j:\n",
    "        lst.append(i)\n",
    "    else:\n",
    "        lst.append(-1)\n",
    "print(max(lst))"
   ]
  },
  {
   "cell_type": "code",
   "execution_count": 630,
   "metadata": {},
   "outputs": [
    {
     "name": "stdout",
     "output_type": "stream",
     "text": [
      "4.0\n"
     ]
    }
   ],
   "source": [
    "#1619\n",
    "arr = [6,2,7,5,1,2,0,3,10,2,5,0,5,5,0,8,7,6,8,0]\n",
    "arr = sorted(arr)\n",
    "n = len(arr)\n",
    "rem = int(n*0.05)\n",
    "arr = arr[rem:n-rem]\n",
    "print(sum(arr)/len(arr))"
   ]
  },
  {
   "cell_type": "code",
   "execution_count": null,
   "metadata": {},
   "outputs": [],
   "source": [
    "#1608not done\n",
    "nums = [0,4,3,0,4]\n",
    "c= 0\n",
    "for i in range(len(nums)):\n",
    "    if nums[i]>nums[i+1]:\n",
    "        "
   ]
  },
  {
   "cell_type": "code",
   "execution_count": 652,
   "metadata": {},
   "outputs": [
    {
     "name": "stdout",
     "output_type": "stream",
     "text": [
      "2\n"
     ]
    }
   ],
   "source": [
    "#717not done\n",
    "bits = [1,1,1,0]\n",
    "c = 0\n",
    "for i in range(0,len(bits),2):\n",
    "    if (bits[i]==1 and bits[i+1]==0) or (bits[i]==1 and bits[i+1]==1):\n",
    "        c = c+1\n",
    "print(c)"
   ]
  },
  {
   "cell_type": "code",
   "execution_count": 684,
   "metadata": {},
   "outputs": [
    {
     "name": "stdout",
     "output_type": "stream",
     "text": [
      "[2, 4, 1, 2, 5]\n",
      "[1, 2, 2]\n",
      "[0, 2, 3]\n"
     ]
    }
   ],
   "source": [
    "#1337 not done\n",
    "mat = [[1,1,0,0,0],\n",
    " [1,1,1,1,0],\n",
    " [1,0,0,0,0],\n",
    " [1,1,0,0,0],\n",
    " [1,1,1,1,1]]\n",
    "k = 3\n",
    "lst = []\n",
    "c = 0\n",
    "for i in range(len(mat)):\n",
    "    for j in mat[i]:\n",
    "        if j==1:\n",
    "            c = c+1\n",
    "    lst.append(c)\n",
    "    c = 0\n",
    "print(lst)\n",
    "x = sorted(lst)\n",
    "y = x[0:k]\n",
    "print(y)\n",
    "lst2 = []\n",
    "for m in range(len(lst)):\n",
    "    for n in y:\n",
    "        if lst[m]==n:\n",
    "            if m not in lst2:\n",
    "                lst2.append(m)\n",
    "print(lst2[0:k])"
   ]
  },
  {
   "cell_type": "code",
   "execution_count": 2,
   "metadata": {},
   "outputs": [
    {
     "name": "stdout",
     "output_type": "stream",
     "text": [
      "Counter({2: 4, 1: 3})\n",
      "2\n"
     ]
    }
   ],
   "source": [
    "#169\n",
    "nums = [2,2,1,1,1,2,2]\n",
    "from collections import Counter\n",
    "print(Counter(nums))\n",
    "for i,j in Counter(nums).items():\n",
    "    if j>(len(nums)/2):\n",
    "        print(i)"
   ]
  },
  {
   "cell_type": "code",
   "execution_count": 9,
   "metadata": {},
   "outputs": [
    {
     "name": "stdout",
     "output_type": "stream",
     "text": [
      "6\n"
     ]
    }
   ],
   "source": [
    "#1287\n",
    "arr = [1,2,2,6,6,6,6,7,10]\n",
    "from collections import Counter\n",
    "for i,j in Counter(arr).items():\n",
    "    if j>(0.25*len(arr)):\n",
    "        print(i)"
   ]
  },
  {
   "cell_type": "code",
   "execution_count": 9,
   "metadata": {},
   "outputs": [
    {
     "name": "stdout",
     "output_type": "stream",
     "text": [
      "[2, 4, 4, 5, 7, 8, 9]\n",
      "64\n"
     ]
    }
   ],
   "source": [
    "#1913\n",
    "nums = [4,2,5,9,7,4,8]\n",
    "x = sorted(nums)\n",
    "print(x)\n",
    "print((x[-1]*x[-2])-(x[0]*x[1]))"
   ]
  },
  {
   "cell_type": "code",
   "execution_count": null,
   "metadata": {},
   "outputs": [],
   "source": []
  },
  {
   "cell_type": "code",
   "execution_count": null,
   "metadata": {},
   "outputs": [],
   "source": []
  }
 ],
 "metadata": {
  "kernelspec": {
   "display_name": "Python 3",
   "language": "python",
   "name": "python3"
  },
  "language_info": {
   "codemirror_mode": {
    "name": "ipython",
    "version": 3
   },
   "file_extension": ".py",
   "mimetype": "text/x-python",
   "name": "python",
   "nbconvert_exporter": "python",
   "pygments_lexer": "ipython3",
   "version": "3.7.7"
  }
 },
 "nbformat": 4,
 "nbformat_minor": 4
}
